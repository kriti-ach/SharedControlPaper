{
 "cells": [
  {
   "cell_type": "code",
   "execution_count": 17,
   "id": "e76d7269-3905-4509-94bc-77e1cca385b5",
   "metadata": {},
   "outputs": [],
   "source": [
    "import pandas as pd\n",
    "import numpy as np\n",
    "import os\n",
    "import glob\n",
    "import json\n",
    "from sharedcontrolpaper.force_sensitive_stopping_task_utils import get_subject_label, aggregate_trial_data, process_trial_data, grab_mean_metric, find_sum_of_intervals, convert_dict_to_df, calculate_proportions_non_nan, collect_trial_metric, grab_mean_metric_by_halves, convert_formats, rename_index_column, convert_to_milliseconds"
   ]
  },
  {
   "cell_type": "code",
   "execution_count": 18,
   "id": "1cb7faae-da47-461d-b5be-9eaa0074b9cd",
   "metadata": {},
   "outputs": [],
   "source": [
    "parent_directory = os.path.dirname(os.getcwd())\n",
    "data_path = os.path.join(parent_directory, 'data', 'experiment')\n",
    "task = \"force_sensitive_stopping_task\"\n",
    "exp_stage = \"final\"\n",
    "pattern = os.path.join(data_path, exp_stage, '*', task, '*.csv')\n",
    "data_files = glob.glob(pattern)"
   ]
  },
  {
   "cell_type": "code",
   "execution_count": 19,
   "id": "d185d493",
   "metadata": {},
   "outputs": [],
   "source": [
    "shared_control_metrics = {}\n",
    "for file in data_files:\n",
    "    subject_label = get_subject_label(file)\n",
    "    df = pd.read_csv(file)\n",
    "    df['block'] = df['block'].str.strip(\"'\")\n",
    "    df_test = df.query(\"block != 'practice'\")\n",
    "    block_1 = df_test.query(\"block == 'block 1'\").reset_index(drop=True)\n",
    "    block_2 = df_test.query(\"block == 'block 2'\").reset_index(drop=True)\n",
    "\n",
    "    task_dfs = [block_1, block_2]\n",
    "\n",
    "    for df in task_dfs:\n",
    "        if 'AI-assisted' in df['condition'].values:\n",
    "            ai_data = df.copy()\n",
    "            ai_data_agg = aggregate_trial_data(ai_data)\n",
    "        else:\n",
    "            non_ai_data = df.copy()\n",
    "            non_ai_data_agg = aggregate_trial_data(non_ai_data)\n",
    "\n",
    "\n",
    "    shared_control_metrics[subject_label] = {'AI': {'data': ai_data_agg}, 'Non-AI': {'data': non_ai_data_agg}}\n",
    "\n",
    "    for block in shared_control_metrics[subject_label].keys():\n",
    "        trial_results, ssrt_list = process_trial_data(shared_control_metrics[subject_label][block]['data'], block=block)\n",
    "        shared_control_metrics[subject_label][block]['trial_results'] = trial_results\n",
    "        shared_control_metrics[subject_label][block]['ssrt_list'] = ssrt_list"
   ]
  },
  {
   "cell_type": "markdown",
   "id": "0bb3e7cb",
   "metadata": {},
   "source": [
    "## Excluded Observations"
   ]
  },
  {
   "cell_type": "markdown",
   "id": "77167a21-0510-4e0a-9670-eb5572056616",
   "metadata": {},
   "source": [
    "## Grabbing SSRT and other metrics across conditions"
   ]
  },
  {
   "cell_type": "code",
   "execution_count": 20,
   "id": "e319d770",
   "metadata": {},
   "outputs": [],
   "source": [
    "force_sensitive_stopping_task_ssrt = grab_mean_metric(shared_control_metrics, 'ssrt')"
   ]
  },
  {
   "cell_type": "code",
   "execution_count": 21,
   "id": "b90eff66",
   "metadata": {},
   "outputs": [],
   "source": [
    "duration_of_inhibition = grab_mean_metric(shared_control_metrics, 'duration_of_inhibition')"
   ]
  },
  {
   "cell_type": "code",
   "execution_count": 22,
   "id": "00356be0",
   "metadata": {},
   "outputs": [],
   "source": [
    "go_task_accuracy_before_stop_onset = grab_mean_metric(shared_control_metrics, 'go_task_accuracy_before_stop_onset')"
   ]
  },
  {
   "cell_type": "code",
   "execution_count": 23,
   "id": "323393f4",
   "metadata": {},
   "outputs": [],
   "source": [
    "go_task_accuracy_after_stop_onset = grab_mean_metric(shared_control_metrics, 'go_task_accuracy_after_stop_onset')"
   ]
  },
  {
   "cell_type": "code",
   "execution_count": 24,
   "id": "12dfa308",
   "metadata": {},
   "outputs": [
    {
     "name": "stdout",
     "output_type": "stream",
     "text": [
      "non_ai         0.000177\n",
      "ai_failed      0.000093\n",
      "ai_assisted    0.000235\n",
      "dtype: float64\n"
     ]
    }
   ],
   "source": [
    "ball_after_ring_proportion_before_stop_onset = grab_mean_metric(shared_control_metrics, 'ball_after_ring_proportion_before_stop_onset')\n",
    "print(ball_after_ring_proportion_before_stop_onset.mean())"
   ]
  },
  {
   "cell_type": "code",
   "execution_count": 25,
   "id": "4d6b82af",
   "metadata": {},
   "outputs": [
    {
     "name": "stdout",
     "output_type": "stream",
     "text": [
      "non_ai         0.050664\n",
      "ai_failed      0.049287\n",
      "ai_assisted    0.049287\n",
      "dtype: float64\n"
     ]
    }
   ],
   "source": [
    "first_non_zero_pressure_timestamp = grab_mean_metric(shared_control_metrics, 'first_non_zero_pressure_timestamp', aggregate_ai=True)\n",
    "print(first_non_zero_pressure_timestamp.mean())"
   ]
  },
  {
   "cell_type": "code",
   "execution_count": 26,
   "id": "6af6579b",
   "metadata": {},
   "outputs": [
    {
     "name": "stdout",
     "output_type": "stream",
     "text": [
      "non_ai         0.177985\n",
      "ai_failed      0.148956\n",
      "ai_assisted    0.148956\n",
      "dtype: float64\n"
     ]
    }
   ],
   "source": [
    "first_full_pressure_timestamp = grab_mean_metric(shared_control_metrics, 'first_full_pressure_timestamp', aggregate_ai=True)\n",
    "print(first_full_pressure_timestamp.mean())"
   ]
  },
  {
   "cell_type": "code",
   "execution_count": 27,
   "id": "0e413399",
   "metadata": {},
   "outputs": [
    {
     "name": "stdout",
     "output_type": "stream",
     "text": [
      "non_ai         0.025474\n",
      "ai_failed      0.022171\n",
      "ai_assisted    0.023202\n",
      "dtype: float64\n"
     ]
    }
   ],
   "source": [
    "proportion_stops_before_stop_onset = grab_mean_metric(shared_control_metrics, 'proportion_stops_before_stop_onset')\n",
    "print(proportion_stops_before_stop_onset.mean())"
   ]
  },
  {
   "cell_type": "markdown",
   "id": "59e9aa01",
   "metadata": {},
   "source": [
    "## Finding the proportion of full pressure points (pressure = 1) at each time interval"
   ]
  },
  {
   "cell_type": "code",
   "execution_count": 28,
   "id": "01db6408",
   "metadata": {},
   "outputs": [
    {
     "name": "stderr",
     "output_type": "stream",
     "text": [
      "/Users/kritiaxh/Documents/paperRepos/SharedControlPaper/src/sharedcontrolpaper/force_sensitive_stopping_task_utils.py:338: RuntimeWarning: invalid value encountered in divide\n",
      "  measures_dict[subject] = np.nansum(np.vstack(trials) == 1, axis=0) / counts # Count number of pressures=1\n"
     ]
    }
   ],
   "source": [
    "non_ai, ai_failed, ai_assisted = {}, {}, {}\n",
    "for subject, subject_data in shared_control_metrics.items():\n",
    "    results = collect_trial_metric(subject, subject_data, 'pressures_at_intervals_until_stop_onset')\n",
    "    # Find the maximum interval length to pad the lists to the same length\n",
    "    max_length = max(\n",
    "        max([len(lst) for lst in results['non_ai']], default=0),\n",
    "        max([len(lst) for lst in results['ai_failed']], default=0),\n",
    "        max([len(lst) for lst in results['ai_assisted']], default=0)\n",
    "    )\n",
    "            \n",
    "    non_ai = find_sum_of_intervals(results['non_ai'], non_ai, max_length, subject)\n",
    "    ai_failed = find_sum_of_intervals(results['ai_failed'], ai_failed, max_length, subject)\n",
    "    ai_assisted = find_sum_of_intervals(results['ai_assisted'], ai_assisted, max_length, subject)\n",
    "\n",
    "\n",
    "# Convert dictionaries into DataFrames for each condition\n",
    "time_intervals = [f\"{i * 100}-{(i + 1) * 100}ms\" for i in range(max_length)]\n",
    "\n",
    "non_ai_proportion_ones, ai_failed_proportion_ones, ai_assisted_proportion_ones = (convert_dict_to_df(non_ai, time_intervals), \n",
    "                                                           convert_dict_to_df(ai_failed, time_intervals), \n",
    "                                                           convert_dict_to_df(ai_assisted, time_intervals))"
   ]
  },
  {
   "cell_type": "markdown",
   "id": "85a6e8f7",
   "metadata": {},
   "source": [
    "## Finding the proportion of trials where subjects inhibited"
   ]
  },
  {
   "cell_type": "code",
   "execution_count": 29,
   "id": "479e0a37",
   "metadata": {},
   "outputs": [
    {
     "name": "stdout",
     "output_type": "stream",
     "text": [
      "non_ai         0.999750\n",
      "ai_failed      0.998750\n",
      "ai_assisted    0.989688\n",
      "dtype: float64\n"
     ]
    }
   ],
   "source": [
    "condition_measure = {}\n",
    "proportion = {}\n",
    "\n",
    "for subject, subject_data in shared_control_metrics.items():\n",
    "    results = collect_trial_metric(subject, subject_data, 'ssrt')\n",
    "    counts, total_counts = calculate_proportions_non_nan(results)\n",
    "\n",
    "    proportion[subject] = {\n",
    "        'non_ai': counts['non_ai'] / total_counts['non_ai'] if total_counts['non_ai'] > 0 else 0,\n",
    "        'ai_failed': counts['ai_failed'] / total_counts['ai_failed'] if total_counts['ai_failed'] > 0 else 0,\n",
    "        'ai_assisted': counts['ai_assisted'] / total_counts['ai_assisted'] if total_counts['ai_assisted'] > 0 else 0,\n",
    "    }\n",
    "\n",
    "\n",
    "df = pd.DataFrame(proportion).T\n",
    "df = df.sort_index()\n",
    "print(df.mean())\n"
   ]
  },
  {
   "cell_type": "markdown",
   "id": "f0ff2075",
   "metadata": {},
   "source": [
    "## Create CSVs of SSRT by each half of trials in a block "
   ]
  },
  {
   "cell_type": "code",
   "execution_count": 30,
   "id": "fce619bb",
   "metadata": {},
   "outputs": [],
   "source": [
    "ssrt_first_half, ssrt_second_half = grab_mean_metric_by_halves(shared_control_metrics, 'ssrt')"
   ]
  },
  {
   "cell_type": "markdown",
   "id": "4340809b",
   "metadata": {},
   "source": [
    "## Store all data that should be accessed later into a JSON file"
   ]
  },
  {
   "cell_type": "code",
   "execution_count": 31,
   "id": "fe5a448d",
   "metadata": {},
   "outputs": [],
   "source": [
    "converted_shared_control_metrics = convert_formats(shared_control_metrics)\n",
    "rename_index_column(force_sensitive_stopping_task_ssrt)\n",
    "rename_index_column(duration_of_inhibition)\n",
    "\n",
    "convert_to_milliseconds(force_sensitive_stopping_task_ssrt)\n",
    "convert_to_milliseconds(duration_of_inhibition)\n",
    "convert_to_milliseconds(ssrt_first_half)\n",
    "convert_to_milliseconds(ssrt_second_half)"
   ]
  },
  {
   "cell_type": "code",
   "execution_count": 32,
   "id": "48e9f4e9",
   "metadata": {},
   "outputs": [],
   "source": [
    "data_to_save = {\n",
    "    'non_ai_proportion_ones': non_ai_proportion_ones.to_dict(),\n",
    "    'ai_failed_proportion_ones': ai_failed_proportion_ones.to_dict(),\n",
    "    'ai_assisted_proportion_ones': ai_assisted_proportion_ones.to_dict(),\n",
    "    'ssrt_first_half': ssrt_first_half.to_dict(),\n",
    "    'ssrt_second_half': ssrt_second_half.to_dict(),\n",
    "    'go_task_accuracy_after_stop_onset': go_task_accuracy_after_stop_onset.to_dict(),\n",
    "    'go_task_accuracy_before_stop_onset': go_task_accuracy_before_stop_onset.to_dict(),\n",
    "    'duration_of_inhibition': duration_of_inhibition.to_dict(),\n",
    "    'force_sensitive_stopping_task_ssrt': force_sensitive_stopping_task_ssrt.to_dict(),\n",
    "    'shared_control_metrics': converted_shared_control_metrics\n",
    "}\n",
    "\n",
    "with open('force_sensitive_data.json', 'w') as f:\n",
    "    json.dump(data_to_save, f, indent=4)"
   ]
  }
 ],
 "metadata": {
  "kernelspec": {
   "display_name": "myenv",
   "language": "python",
   "name": "myenv"
  },
  "language_info": {
   "codemirror_mode": {
    "name": "ipython",
    "version": 3
   },
   "file_extension": ".py",
   "mimetype": "text/x-python",
   "name": "python",
   "nbconvert_exporter": "python",
   "pygments_lexer": "ipython3",
   "version": "3.12.4"
  }
 },
 "nbformat": 4,
 "nbformat_minor": 5
}
