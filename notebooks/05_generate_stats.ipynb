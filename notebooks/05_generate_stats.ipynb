{
 "cells": [
  {
   "cell_type": "code",
   "execution_count": 1,
   "metadata": {},
   "outputs": [],
   "source": [
    "import pandas as pd\n",
    "from scipy import stats\n",
    "import numpy as np"
   ]
  },
  {
   "cell_type": "code",
   "execution_count": 2,
   "metadata": {},
   "outputs": [],
   "source": [
    "%store -r survey_scores\n",
    "%store -r force_sensitive_stopping_task_ssrt\n",
    "%store -r go_task_accuracy_before_stop_onset\n",
    "%store -r go_task_accuracy_after_stop_onset\n",
    "%store -r duration_of_inhibition\n",
    "%store -r ssrt_first_half\n",
    "%store -r ssrt_second_half\n",
    "%store -r simple_stop_ssrt"
   ]
  },
  {
   "cell_type": "markdown",
   "metadata": {},
   "source": [
    "### Convert all values from seconds to milliseconds"
   ]
  },
  {
   "cell_type": "code",
   "execution_count": 3,
   "metadata": {},
   "outputs": [],
   "source": [
    "# Convert to ms\n",
    "force_sensitive_stopping_task_ssrt.loc[:, 'non_ai'] *= 1000\n",
    "force_sensitive_stopping_task_ssrt.loc[:, 'ai_disengaged'] *= 1000\n",
    "force_sensitive_stopping_task_ssrt.loc[:, 'ai_engaged'] *= 1000\n",
    "\n",
    "duration_of_inhibition.loc[:, 'non_ai'] *= 1000\n",
    "duration_of_inhibition.loc[:, 'ai_disengaged'] *= 1000\n",
    "duration_of_inhibition.loc[:, 'ai_engaged'] *= 1000\n",
    "\n",
    "ssrt_first_half.loc[:, 'non_ai'] *= 1000\n",
    "ssrt_first_half.loc[:, 'ai_disengaged'] *= 1000\n",
    "ssrt_first_half.loc[:, 'ai_engaged'] *= 1000\n",
    "\n",
    "ssrt_second_half.loc[:, 'non_ai'] *= 1000\n",
    "ssrt_second_half.loc[:, 'ai_disengaged'] *= 1000\n",
    "ssrt_second_half.loc[:, 'ai_engaged'] *= 1000"
   ]
  },
  {
   "cell_type": "markdown",
   "metadata": {},
   "source": [
    "### Remove the Mean and SD rows for Simple Stop"
   ]
  },
  {
   "cell_type": "code",
   "execution_count": 4,
   "metadata": {},
   "outputs": [],
   "source": [
    "simple_stop_ssrt = simple_stop_ssrt.iloc[:-2]"
   ]
  },
  {
   "cell_type": "markdown",
   "metadata": {},
   "source": [
    "### Rename the the index column to subject ID"
   ]
  },
  {
   "cell_type": "code",
   "execution_count": 5,
   "metadata": {},
   "outputs": [],
   "source": [
    "force_sensitive_stopping_task_ssrt = force_sensitive_stopping_task_ssrt.rename_axis('subject_id')\n",
    "simple_stop_ssrt = simple_stop_ssrt.rename_axis('subject_id')\n",
    "duration_of_inhibition = duration_of_inhibition.rename_axis('subject_id')\n"
   ]
  },
  {
   "cell_type": "markdown",
   "metadata": {},
   "source": [
    "### Merge Simple Stop and Force Sensitive Stopping Task SSRTs"
   ]
  },
  {
   "cell_type": "code",
   "execution_count": 6,
   "metadata": {},
   "outputs": [
    {
     "name": "stdout",
     "output_type": "stream",
     "text": [
      "Stored 'merged_df' (DataFrame)\n",
      "Stored 'duration_of_inhibition' (DataFrame)\n"
     ]
    }
   ],
   "source": [
    "merged_df = pd.merge(force_sensitive_stopping_task_ssrt, simple_stop_ssrt[['ssrt', 'ssrt_without_short_ssd_trials', 'ssrt_without_short_ssd_subs']], \n",
    "                    left_index=True, right_index=True, how='left')\n",
    "merged_df.rename(columns={\n",
    "    'ssrt': 'simple_stop_ssrt',\n",
    "    'ssrt_without_short_ssd_trials': 'simple_stop_ssrt_without_short_ssd_trials',\n",
    "    'ssrt_without_short_ssd_subs': 'simple_stop_ssrt_without_short_ssd_subs'\n",
    "}, inplace=True)\n",
    "\n",
    "%store merged_df\n",
    "%store duration_of_inhibition"
   ]
  },
  {
   "cell_type": "markdown",
   "metadata": {},
   "source": [
    "## Stats Functions"
   ]
  },
  {
   "cell_type": "code",
   "execution_count": 7,
   "metadata": {},
   "outputs": [],
   "source": [
    "def cohens_d_paired(x1, x2):\n",
    "    \"\"\"Calculate Cohen's d for paired samples\"\"\"\n",
    "    d = (x1 - x2).mean() / np.sqrt(((x1 - x2).std(ddof=1) ** 2) / 2)\n",
    "    return d\n",
    "\n",
    "def calculate_ci_for_difference(x1, x2, confidence=0.95):\n",
    "    \"\"\"Calculate confidence interval for the mean difference between two paired samples\"\"\"\n",
    "    diff = x1 - x2\n",
    "    n = len(diff)\n",
    "    mean_diff = np.mean(diff)\n",
    "    sem = stats.sem(diff)  # Standard error of the mean\n",
    "    ci = stats.t.interval(confidence, n-1, loc=mean_diff, scale=sem)\n",
    "    return mean_diff, ci"
   ]
  },
  {
   "cell_type": "code",
   "execution_count": 8,
   "metadata": {},
   "outputs": [],
   "source": [
    "def calc_stats_ind(x1, x2):\n",
    "    \"\"\"Calculate t-stat, p-value, Cohen's d, DF, 95% CI for two independent samples\"\"\"\n",
    "    t_stat, p_value = stats.ttest_ind(x1, x2, nan_policy='omit')\n",
    "    print(f\"T-statistic: {t_stat:.2f}, P-value: {p_value:.4f}\")\n",
    "\n",
    "    mean_x1 = np.mean(x1)\n",
    "    mean_x2 = np.mean(x2)\n",
    "    std_x1 = np.std(x1, ddof=1)  # Sample standard deviation\n",
    "    std_x2 = np.std(x2, ddof=1)\n",
    "\n",
    "    # Pooled standard deviation\n",
    "    n1 = len(x1)\n",
    "    n2 = len(x2)\n",
    "    pooled_std = np.sqrt(((n1 - 1) * std_x1**2 + (n2 - 1) * std_x2**2) / (n1 + n2 - 2))\n",
    "\n",
    "    # Cohen's d\n",
    "    cohens_d = (mean_x1 - mean_x2) / pooled_std\n",
    "    print(f\"Cohen's d: {cohens_d:.3f}\")\n",
    "\n",
    "    # Degrees of freedom\n",
    "    degrees_of_freedom = n1 + n2 - 2\n",
    "    print(f\"Degrees of Freedom: {degrees_of_freedom}\")\n",
    "\n",
    "    # Confidence Interval Calculation\n",
    "    mean_diff = mean_x1 - mean_x2\n",
    "    se_diff = np.sqrt((std_x1**2 / n1) + (std_x2**2 / n2))\n",
    "\n",
    "    # 95% CI\n",
    "    ci = stats.t.interval(0.95, df=degrees_of_freedom, loc=mean_diff, scale=se_diff)\n",
    "    print(f\"95% CI for mean difference: [{ci[0]:.3f}, {ci[1]:.3f}]\")"
   ]
  },
  {
   "cell_type": "markdown",
   "metadata": {},
   "source": [
    "## Planned Statistical Tests"
   ]
  },
  {
   "cell_type": "markdown",
   "metadata": {},
   "source": [
    "### AI-Disengaged vs Non-AI SSRT"
   ]
  },
  {
   "cell_type": "code",
   "execution_count": 9,
   "metadata": {},
   "outputs": [
    {
     "name": "stdout",
     "output_type": "stream",
     "text": [
      "Mean Non-AI SSRT: 277.33\n",
      "Mean AI-disengaged SSRT: 299.47\n",
      "T-statistic: 5.95, p-value: 0.00\n"
     ]
    }
   ],
   "source": [
    "print(f'Mean Non-AI SSRT: {np.mean(merged_df['non_ai']):.2f}')\n",
    "print(f'Mean AI-disengaged SSRT: {np.mean(merged_df['ai_disengaged']):.2f}')\n",
    "ai_disengaged_vs_non_ai = stats.ttest_rel(merged_df['ai_disengaged'], merged_df['non_ai'])\n",
    "print(f\"T-statistic: {ai_disengaged_vs_non_ai.statistic:.2f}, p-value: {ai_disengaged_vs_non_ai.pvalue:.2f}\")"
   ]
  },
  {
   "cell_type": "code",
   "execution_count": 10,
   "metadata": {},
   "outputs": [
    {
     "name": "stdout",
     "output_type": "stream",
     "text": [
      "Cohen's d: 1.33\n",
      "Mean difference = 22.14 ms\n",
      "95% CI: [14.62, 29.66] ms\n"
     ]
    }
   ],
   "source": [
    "cohens_d = cohens_d_paired(merged_df['ai_disengaged'], merged_df['non_ai'])\n",
    "mean_diff, ci = calculate_ci_for_difference(merged_df['ai_disengaged'], merged_df['non_ai'])\n",
    "print(f\"Cohen's d: {cohens_d:.2f}\")\n",
    "print(f\"Mean difference = {mean_diff:.2f} ms\")\n",
    "print(f\"95% CI: [{ci[0]:.2f}, {ci[1]:.2f}] ms\")"
   ]
  },
  {
   "cell_type": "markdown",
   "metadata": {},
   "source": [
    "### AI-Engaged vs AI-Disengaged SSRT"
   ]
  },
  {
   "cell_type": "code",
   "execution_count": 11,
   "metadata": {},
   "outputs": [
    {
     "name": "stdout",
     "output_type": "stream",
     "text": [
      "Mean AI-Engaged SSRT: 332.06\n",
      "Mean AI-Disengaged SSRT: 299.47\n",
      "T-statistic: 3.76, p-value: 0.00\n"
     ]
    }
   ],
   "source": [
    "print(f'Mean AI-Engaged SSRT: {np.mean(merged_df['ai_engaged']):.2f}')\n",
    "print(f'Mean AI-Disengaged SSRT: {np.mean(merged_df['ai_disengaged']):.2f}')\n",
    "ai_engaged_vs_disengaged = stats.ttest_rel(merged_df['ai_engaged'], merged_df['ai_disengaged'])\n",
    "print(f\"T-statistic: {ai_engaged_vs_disengaged.statistic:.2f}, p-value: {ai_engaged_vs_disengaged.pvalue:.2f}\")"
   ]
  },
  {
   "cell_type": "code",
   "execution_count": 12,
   "metadata": {},
   "outputs": [
    {
     "name": "stdout",
     "output_type": "stream",
     "text": [
      "Cohen's d: 0.84\n",
      "Mean difference = 32.59 ms\n",
      "95% CI: [15.08, 50.09] ms\n"
     ]
    }
   ],
   "source": [
    "cohens_d = cohens_d_paired(merged_df['ai_engaged'], merged_df['ai_disengaged'])\n",
    "mean_diff, ci = calculate_ci_for_difference(merged_df['ai_engaged'], merged_df['ai_disengaged'])\n",
    "print(f\"Cohen's d: {cohens_d:.2f}\")\n",
    "print(f\"Mean difference = {mean_diff:.2f} ms\")\n",
    "print(f\"95% CI: [{ci[0]:.2f}, {ci[1]:.2f}] ms\")"
   ]
  },
  {
   "cell_type": "markdown",
   "metadata": {},
   "source": [
    "### Non-AI SSRT vs Simple Stop SSRT"
   ]
  },
  {
   "cell_type": "code",
   "execution_count": 13,
   "metadata": {},
   "outputs": [
    {
     "name": "stdout",
     "output_type": "stream",
     "text": [
      "Mean Non-AI SSRT: 277.33\n",
      "Simple Stop SSRT: 210.57\n",
      "T-statistic: 13.03, p-value = 0.00\n",
      "Correlation: 0.46\n"
     ]
    }
   ],
   "source": [
    "print(f'Mean Non-AI SSRT: {np.mean(merged_df['non_ai']):.2f}')\n",
    "print(f'Simple Stop SSRT: {np.mean(merged_df['simple_stop_ssrt']):.2f}')\n",
    "non_ai_vs_simple = stats.ttest_rel(merged_df['non_ai'], merged_df['simple_stop_ssrt'])\n",
    "non_ai_vs_simple_corr = np.corrcoef(merged_df['non_ai'], merged_df['simple_stop_ssrt'])[1][0]\n",
    "print(f\"T-statistic: {non_ai_vs_simple.statistic:.2f}, p-value = {non_ai_vs_simple.pvalue:.2f}\")\n",
    "print(f\"Correlation: {non_ai_vs_simple_corr:.2f}\")"
   ]
  },
  {
   "cell_type": "code",
   "execution_count": 14,
   "metadata": {},
   "outputs": [
    {
     "name": "stdout",
     "output_type": "stream",
     "text": [
      "Cohen's d: 2.91\n",
      "Mean difference = 66.77 ms\n",
      "95% CI: [56.40, 77.13] ms\n"
     ]
    }
   ],
   "source": [
    "cohens_d2 = cohens_d_paired(merged_df['non_ai'], merged_df['simple_stop_ssrt'])\n",
    "mean_diff2, ci2 = calculate_ci_for_difference(merged_df['non_ai'], merged_df['simple_stop_ssrt'])\n",
    "print(f\"Cohen's d: {cohens_d2:.2f}\")\n",
    "print(f\"Mean difference = {mean_diff2:.2f} ms\")\n",
    "print(f\"95% CI: [{ci2[0]:.2f}, {ci2[1]:.2f}] ms\")"
   ]
  },
  {
   "cell_type": "markdown",
   "metadata": {},
   "source": [
    "## Order Effects"
   ]
  },
  {
   "cell_type": "markdown",
   "metadata": {},
   "source": [
    "### Calculate order effects between subjects who had the AI block first vs. the Non-AI block first"
   ]
  },
  {
   "cell_type": "code",
   "execution_count": 15,
   "metadata": {},
   "outputs": [],
   "source": [
    "# Initialize subjects who had the Non-AI and AI Blocks first\n",
    "non_ai_first_subs = ['s004', 's009', 's008', 's011', 's012', 's015', 's016', 's019', 's020', 's023', 's024', 's027', 's028', 's031', 's032', 's035', 's036', 's039', 's040', 's043']\n",
    "ai_first_subs = ['s005', 's006', 's007', 's010', 's013', 's014', 's017', 's018', 's021', 's022', 's025', 's026', 's029', 's030', 's033', 's034', 's037', 's038', 's041', 's042']"
   ]
  },
  {
   "cell_type": "code",
   "execution_count": 16,
   "metadata": {},
   "outputs": [
    {
     "name": "stdout",
     "output_type": "stream",
     "text": [
      "T-statistic: 1.05, P-value: 0.2988\n",
      "Cohen's d: 0.333\n",
      "Degrees of Freedom: 38\n",
      "95% CI for mean difference: [-7.209, 22.852]\n",
      "Mean difference (AI first): 26.05 ms, 95% CI: [14.07, 38.03] ms\n",
      "Mean difference (Non-AI first): 18.23 ms, 95% CI: [8.33, 28.12] ms\n"
     ]
    }
   ],
   "source": [
    "ssrt_non_ai_first_non_ai = []\n",
    "ssrt_ai_first_non_ai = []\n",
    "ssrt_non_ai_first_ai_disengaged = []\n",
    "ssrt_ai_first_ai_disengaged = []\n",
    "ssrt_non_ai_first_ai_engaged = []\n",
    "ssrt_ai_first_ai_engaged = []\n",
    "\n",
    "for sub in non_ai_first_subs:\n",
    "    ssrt_non_ai_first_non_ai.append(force_sensitive_stopping_task_ssrt.loc[sub, \"non_ai\"])\n",
    "    ssrt_non_ai_first_ai_disengaged.append(force_sensitive_stopping_task_ssrt.loc[sub, \"ai_disengaged\"])\n",
    "    ssrt_non_ai_first_ai_engaged.append(force_sensitive_stopping_task_ssrt.loc[sub, \"ai_engaged\"])\n",
    "\n",
    "for sub in ai_first_subs:\n",
    "    ssrt_ai_first_non_ai.append(force_sensitive_stopping_task_ssrt.loc[sub, \"non_ai\"])\n",
    "    ssrt_ai_first_ai_disengaged.append(force_sensitive_stopping_task_ssrt.loc[sub, \"ai_disengaged\"])\n",
    "    ssrt_ai_first_ai_engaged.append(force_sensitive_stopping_task_ssrt.loc[sub, \"ai_engaged\"])\n",
    "\n",
    "# Calculate the differences between AI SSRT and Non-AI SSRT for both subject groups\n",
    "diff_non_ai_first = np.array(ssrt_non_ai_first_ai_disengaged) - np.array(ssrt_non_ai_first_non_ai)  # AI-Disengaged - Non-AI for Non-AI first subjects\n",
    "diff_ai_first = np.array(ssrt_ai_first_ai_disengaged) - np.array(ssrt_ai_first_non_ai)  # AI-Disengaged - Non-AI for AI first subjects\n",
    "\n",
    "calc_stats_ind(diff_ai_first, diff_non_ai_first)\n",
    "mean_ai_first = diff_ai_first.mean()\n",
    "mean_non_ai_first = diff_non_ai_first.mean()\n",
    "\n",
    "ci_ai_first = stats.t.interval(.95, len(diff_ai_first)-1, loc=mean_ai_first, scale=stats.sem(diff_ai_first))\n",
    "print(f\"Mean difference (AI first): {mean_ai_first:.2f} ms, 95% CI: [{ci_ai_first[0]:.2f}, {ci_ai_first[1]:.2f}] ms\")\n",
    "\n",
    "ci_non_ai_first = stats.t.interval(.95, len(diff_non_ai_first)-1, loc=mean_non_ai_first, scale=stats.sem(diff_non_ai_first))\n",
    "print(f\"Mean difference (Non-AI first): {mean_non_ai_first:.2f} ms, 95% CI: [{ci_non_ai_first[0]:.2f}, {ci_non_ai_first[1]:.2f}] ms\")"
   ]
  },
  {
   "cell_type": "markdown",
   "metadata": {},
   "source": [
    "### Calculate AI-Disengaged vs. Non-AI SSRT depending on whether they occurred in the first half or second half of the block"
   ]
  },
  {
   "cell_type": "markdown",
   "metadata": {},
   "source": [
    "#### First half"
   ]
  },
  {
   "cell_type": "code",
   "execution_count": 17,
   "metadata": {},
   "outputs": [
    {
     "name": "stdout",
     "output_type": "stream",
     "text": [
      "T-statistic: 3.46, p-value: 0.001\n",
      "Cohen's d: 0.77\n",
      "Mean difference: 21.40 ms\n",
      "95% CI: [8.87, 33.92] ms\n",
      "Mean Non-AI SSRT First Half: 274.94\n",
      "Mean AI-Disengaged SSRT First Half: 296.33\n"
     ]
    }
   ],
   "source": [
    "# T test for AI vs Non AI SSRT in the first half of trials\n",
    "ai_vs_non_ai = stats.ttest_rel(ssrt_first_half['ai_disengaged'], ssrt_first_half['non_ai'])\n",
    "print(f\"T-statistic: {ai_vs_non_ai.statistic:.2f}, p-value: {ai_vs_non_ai.pvalue:.3f}\")\n",
    "\n",
    "cohens_d1 = cohens_d_paired(ssrt_first_half['ai_disengaged'], ssrt_first_half['non_ai'])\n",
    "mean_diff1, ci1 = calculate_ci_for_difference(ssrt_first_half['ai_disengaged'], ssrt_first_half['non_ai'])\n",
    "print(f\"Cohen's d: {cohens_d1:.2f}\")\n",
    "print(f\"Mean difference: {mean_diff1:.2f} ms\")\n",
    "print(f\"95% CI: [{ci1[0]:.2f}, {ci1[1]:.2f}] ms\")\n",
    "\n",
    "print(f'Mean Non-AI SSRT First Half: {np.mean(ssrt_first_half['non_ai']):.2f}')\n",
    "print(f'Mean AI-Disengaged SSRT First Half: {np.mean(ssrt_first_half['ai_disengaged']):.2f}')"
   ]
  },
  {
   "cell_type": "markdown",
   "metadata": {},
   "source": [
    "#### Second Half"
   ]
  },
  {
   "cell_type": "code",
   "execution_count": 18,
   "metadata": {},
   "outputs": [
    {
     "name": "stdout",
     "output_type": "stream",
     "text": [
      "T-statistic: 4.62, p-value: 0.000\n",
      "Cohen's d: 1.03\n",
      "Mean difference = 24.30 ms\n",
      "95% CI: [13.66, 34.94] ms\n",
      "Mean Non-AI SSRT Second Half: 279.72\n",
      "Mean AI-Disengaged SSRT Second Half: 304.03\n"
     ]
    }
   ],
   "source": [
    "ai_vs_non_ai = stats.ttest_rel(ssrt_second_half['ai_disengaged'], ssrt_second_half['non_ai'])\n",
    "print(f\"T-statistic: {ai_vs_non_ai.statistic:.2f}, p-value: {ai_vs_non_ai.pvalue:.3f}\")\n",
    "\n",
    "cohens_d1 = cohens_d_paired(ssrt_second_half['ai_disengaged'], ssrt_second_half['non_ai'])\n",
    "mean_diff1, ci1 = calculate_ci_for_difference(ssrt_second_half['ai_disengaged'], ssrt_second_half['non_ai'])\n",
    "print(f\"Cohen's d: {cohens_d1:.2f}\")\n",
    "print(f\"Mean difference = {mean_diff1:.2f} ms\")\n",
    "print(f\"95% CI: [{ci1[0]:.2f}, {ci1[1]:.2f}] ms\")\n",
    "\n",
    "print(f'Mean Non-AI SSRT Second Half: {np.mean(ssrt_second_half['non_ai']):.2f}')\n",
    "print(f'Mean AI-Disengaged SSRT Second Half: {np.mean(ssrt_second_half['ai_disengaged']):.2f}')"
   ]
  },
  {
   "cell_type": "markdown",
   "metadata": {},
   "source": [
    "## Exploratory T-tests and Confidence Intervals"
   ]
  },
  {
   "cell_type": "markdown",
   "metadata": {},
   "source": [
    "### Non-AI vs AI-Disengaged Duration of Inhibition"
   ]
  },
  {
   "cell_type": "code",
   "execution_count": 19,
   "metadata": {},
   "outputs": [
    {
     "name": "stdout",
     "output_type": "stream",
     "text": [
      "T-statistic: 2.74, P-value: 0.01\n",
      "Cohen's d: 0.61\n",
      "Mean difference: 5.74 ms\n",
      "95% CI: [1.50, 9.98] ms\n",
      "Mean Non-AI Duration of Inhibition: 41.02\n",
      "Mean AI-Disengaged Duration of Inhibition: 46.76\n"
     ]
    }
   ],
   "source": [
    "t_stat, p_value = stats.ttest_rel(duration_of_inhibition['ai_disengaged'], duration_of_inhibition['non_ai'])\n",
    "\n",
    "print(f\"T-statistic: {t_stat:.2f}, P-value: {p_value:.2f}\")\n",
    "\n",
    "cohens_d1 = cohens_d_paired(duration_of_inhibition['ai_disengaged'], \n",
    "                            duration_of_inhibition['non_ai'])\n",
    "mean_diff1, ci1 = calculate_ci_for_difference(duration_of_inhibition['ai_disengaged'], \n",
    "                                              duration_of_inhibition['non_ai'])\n",
    "print(f\"Cohen's d: {cohens_d1:.2f}\")\n",
    "print(f\"Mean difference: {mean_diff1:.2f} ms\")\n",
    "print(f\"95% CI: [{ci1[0]:.2f}, {ci1[1]:.2f}] ms\")\n",
    "\n",
    "print(f'Mean Non-AI Duration of Inhibition: {np.mean(duration_of_inhibition['non_ai']):.2f}')\n",
    "print(f'Mean AI-Disengaged Duration of Inhibition: {np.mean(duration_of_inhibition['ai_disengaged']):.2f}')"
   ]
  },
  {
   "cell_type": "markdown",
   "metadata": {},
   "source": [
    "### Non-AI vs AI-Disengaged Go Task Accuracy Before Stop Onset"
   ]
  },
  {
   "cell_type": "code",
   "execution_count": 20,
   "metadata": {},
   "outputs": [
    {
     "name": "stdout",
     "output_type": "stream",
     "text": [
      "Mean Non-AI Accuracy: 0.87\n",
      "Mean AI-Disengaged Accuracy: 0.90\n",
      "T-statistic: 2.81, P-value: 0.008\n",
      "Cohen's d: 0.63\n",
      "Mean difference = 0.03 ms\n",
      "95% CI: [0.01, 0.06] ms\n"
     ]
    }
   ],
   "source": [
    "mean_non_ai = go_task_accuracy_before_stop_onset['non_ai'].mean()\n",
    "mean_ai_disengaged = go_task_accuracy_before_stop_onset['ai_disengaged'].mean()\n",
    "\n",
    "print(f\"Mean Non-AI Accuracy: {mean_non_ai:.2f}\")\n",
    "print(f\"Mean AI-Disengaged Accuracy: {mean_ai_disengaged:.2f}\")\n",
    "\n",
    "t_stat, p_value = stats.ttest_rel(go_task_accuracy_before_stop_onset['ai_disengaged'], go_task_accuracy_before_stop_onset['non_ai'])\n",
    "\n",
    "print(f\"T-statistic: {t_stat:.2f}, P-value: {p_value:.3f}\")\n",
    "\n",
    "cohens_d1 = cohens_d_paired(go_task_accuracy_before_stop_onset['ai_disengaged'], go_task_accuracy_before_stop_onset['non_ai'])\n",
    "mean_diff1, ci1 = calculate_ci_for_difference(go_task_accuracy_before_stop_onset['ai_disengaged'], go_task_accuracy_before_stop_onset['non_ai'])\n",
    "print(f\"Cohen's d: {cohens_d1:.2f}\")\n",
    "print(f\"Mean difference = {mean_diff1:.2f} ms\")\n",
    "print(f\"95% CI: [{ci1[0]:.2f}, {ci1[1]:.2f}] ms\")\n"
   ]
  },
  {
   "cell_type": "markdown",
   "metadata": {},
   "source": [
    "### Non-AI vs AI-Disengaged Go Task Accuracy After Stop Onset (aka Stop Success Rate)"
   ]
  },
  {
   "cell_type": "code",
   "execution_count": 21,
   "metadata": {},
   "outputs": [
    {
     "name": "stdout",
     "output_type": "stream",
     "text": [
      "Mean Non-AI Accuracy: 0.87\n",
      "Mean AI-Disengaged Accuracy: 0.90\n",
      "T-statistic: 2.81, P-value: 0.008\n",
      "Cohen's d: 0.63\n",
      "Mean difference = 0.03\n",
      "95% CI: [0.01, 0.06]\n"
     ]
    }
   ],
   "source": [
    "mean_non_ai = go_task_accuracy_before_stop_onset['non_ai'].mean()\n",
    "mean_ai_disengaged = go_task_accuracy_before_stop_onset['ai_disengaged'].mean()\n",
    "\n",
    "print(f\"Mean Non-AI Accuracy: {mean_non_ai:.2f}\")\n",
    "print(f\"Mean AI-Disengaged Accuracy: {mean_ai_disengaged:.2f}\")\n",
    "\n",
    "t_stat, p_value = stats.ttest_rel(go_task_accuracy_before_stop_onset['ai_disengaged'], go_task_accuracy_before_stop_onset['non_ai'])\n",
    "\n",
    "print(f\"T-statistic: {t_stat:.2f}, P-value: {p_value:.3f}\")\n",
    "\n",
    "cohens_d1 = cohens_d_paired(go_task_accuracy_before_stop_onset['ai_disengaged'], go_task_accuracy_before_stop_onset['non_ai'])\n",
    "mean_diff1, ci1 = calculate_ci_for_difference(go_task_accuracy_before_stop_onset['ai_disengaged'], go_task_accuracy_before_stop_onset['non_ai'])\n",
    "print(f\"Cohen's d: {cohens_d1:.2f}\")\n",
    "print(f\"Mean difference = {mean_diff1:.2f}\")\n",
    "print(f\"95% CI: [{ci1[0]:.2f}, {ci1[1]:.2f}]\")"
   ]
  },
  {
   "cell_type": "markdown",
   "metadata": {},
   "source": [
    "### Non-AI vs AI-Disengaged SSRT in subjects who did not show proactive slowing"
   ]
  },
  {
   "cell_type": "code",
   "execution_count": 22,
   "metadata": {},
   "outputs": [],
   "source": [
    "# Identify non-proactive slowing subjects\n",
    "non_proactive_slowing_mask = (go_task_accuracy_before_stop_onset['non_ai'] > \n",
    "                               go_task_accuracy_before_stop_onset['ai_disengaged'])\n",
    "non_proactive_slowing_subs = go_task_accuracy_before_stop_onset.index[non_proactive_slowing_mask].tolist()\n",
    "ssrt_non_ai = force_sensitive_stopping_task_ssrt['non_ai']\n",
    "ssrt_ai_disengaged = force_sensitive_stopping_task_ssrt['ai_disengaged']\n",
    "\n",
    "ssrt_data = pd.DataFrame({\n",
    "    'subject_id': force_sensitive_stopping_task_ssrt.index,\n",
    "    'ssrt_non_ai': ssrt_non_ai,\n",
    "    'ssrt_ai_disengaged': ssrt_ai_disengaged\n",
    "})\n",
    "\n",
    "ssrt_data = ssrt_data[ssrt_data['subject_id'] != 'mean'] #remove mean row\n",
    "\n",
    "ssrt_data['difference_ms'] = ssrt_data['ssrt_ai_disengaged'] - ssrt_data['ssrt_non_ai']  # find ai-disengaged - non ai ssrt\n",
    "ssrt_data['slowing_type'] = ['Non-Proactive' if subject in non_proactive_slowing_subs else 'Proactive' \n",
    "                              for subject in ssrt_data['subject_id']]\n",
    "\n",
    "non_proactive_slowing_data = ssrt_data[ssrt_data['slowing_type'] == 'Non-Proactive']"
   ]
  },
  {
   "cell_type": "code",
   "execution_count": 23,
   "metadata": {},
   "outputs": [
    {
     "name": "stdout",
     "output_type": "stream",
     "text": [
      "T-statistic: 2.85, P-value: 0.019\n",
      "Cohen's d: 1.28\n",
      "Mean difference = 29.13 ms\n",
      "95% CI: [6.03, 52.24] ms\n",
      "Mean Non-AI SSRT: 268.66\n",
      "Mean AI-Disengaged SSRT: 297.79\n"
     ]
    }
   ],
   "source": [
    "t_stat, p_value = stats.ttest_rel(non_proactive_slowing_data['ssrt_ai_disengaged'], non_proactive_slowing_data['ssrt_non_ai'])\n",
    "\n",
    "print(f\"T-statistic: {t_stat:.2f}, P-value: {p_value:.3f}\")\n",
    "\n",
    "cohens_d1 = cohens_d_paired(non_proactive_slowing_data['ssrt_ai_disengaged'], non_proactive_slowing_data['ssrt_non_ai'])\n",
    "mean_diff1, ci1 = calculate_ci_for_difference(non_proactive_slowing_data['ssrt_ai_disengaged'], non_proactive_slowing_data['ssrt_non_ai'])\n",
    "print(f\"Cohen's d: {cohens_d1:.2f}\")\n",
    "print(f\"Mean difference = {mean_diff1:.2f} ms\")\n",
    "print(f\"95% CI: [{ci1[0]:.2f}, {ci1[1]:.2f}] ms\")\n",
    "\n",
    "print(f'Mean Non-AI SSRT: {np.mean(non_proactive_slowing_data['ssrt_non_ai']):.2f}')\n",
    "print(f'Mean AI-Disengaged SSRT: {np.mean(non_proactive_slowing_data['ssrt_ai_disengaged']):.2f}')"
   ]
  },
  {
   "cell_type": "markdown",
   "metadata": {},
   "source": [
    "### T-test comparing AI-Disengaged minus Non-AI SSRT in subjects who proactively slowed and did not proactively slow"
   ]
  },
  {
   "cell_type": "code",
   "execution_count": 24,
   "metadata": {},
   "outputs": [
    {
     "name": "stdout",
     "output_type": "stream",
     "text": [
      "T-statistic: 1.09, P-value: 0.2831\n",
      "Cohen's d: 0.398\n",
      "Degrees of Freedom: 38\n",
      "95% CI for mean difference: [-12.624, 31.276]\n",
      "Mean difference (Non-Proactive): 29.13 ms\n",
      "Mean difference (Proactive): 19.81 ms\n"
     ]
    }
   ],
   "source": [
    "non_proactive_differences = ssrt_data[ssrt_data['slowing_type'] == 'Non-Proactive']['difference_ms'].dropna()\n",
    "proactive_differences = ssrt_data[ssrt_data['slowing_type'] == 'Proactive']['difference_ms'].dropna()\n",
    "\n",
    "calc_stats_ind(non_proactive_differences, proactive_differences)\n",
    "mean_non_proactive = ssrt_data[ssrt_data['slowing_type'] == 'Non-Proactive']['difference_ms'].mean()\n",
    "mean_proactive = ssrt_data[ssrt_data['slowing_type'] == 'Proactive']['difference_ms'].mean()\n",
    "\n",
    "print(f\"Mean difference (Non-Proactive): {mean_non_proactive:.2f} ms\")\n",
    "print(f\"Mean difference (Proactive): {mean_proactive:.2f} ms\")"
   ]
  },
  {
   "cell_type": "markdown",
   "metadata": {},
   "source": [
    "## Correlate survey scores with SSRT"
   ]
  },
  {
   "cell_type": "code",
   "execution_count": 25,
   "metadata": {},
   "outputs": [
    {
     "name": "stdout",
     "output_type": "stream",
     "text": [
      "Correlation and p-value between SSRT and survey scores: -0.05, 0.744\n"
     ]
    }
   ],
   "source": [
    "avg_df = merged_df.merge(survey_scores, on='subject_id', how='left')\n",
    "avg_df['difference_ai_disengaged_and_non_ai_ssrt'] = avg_df['ai_disengaged'] - avg_df['non_ai']\n",
    "correlation, pval = stats.pearsonr(avg_df['average_score'], avg_df[\"difference_ai_disengaged_and_non_ai_ssrt\"])\n",
    "print(f\"Correlation and p-value between SSRT and survey scores: {correlation:.2f}, {pval:.3f}\")"
   ]
  },
  {
   "cell_type": "markdown",
   "metadata": {},
   "source": [
    "## Violations of Context Independence in Simple Stop Data"
   ]
  },
  {
   "cell_type": "markdown",
   "metadata": {},
   "source": [
    "### a) Non-AI SSRT vs Simple Stop SSRT Excluding trials with SSD < 200 ms"
   ]
  },
  {
   "cell_type": "code",
   "execution_count": 26,
   "metadata": {},
   "outputs": [
    {
     "name": "stdout",
     "output_type": "stream",
     "text": [
      "Mean Non-AI SSRT: 277.33\n",
      "Simple Stop SSRT Excluding Trials with SSD < 200ms: 207.72\n",
      "T-statistic: 13.03, p-value = 0.000\n",
      "Cohen's d: 2.78\n",
      "Mean difference = 69.61 ms\n",
      "95% CI: [58.29, 80.93] ms\n"
     ]
    }
   ],
   "source": [
    "print(f'Mean Non-AI SSRT: {np.mean(merged_df['non_ai']):.2f}')\n",
    "print(f'Simple Stop SSRT Excluding Trials with SSD < 200ms: {np.mean(merged_df['simple_stop_ssrt_without_short_ssd_trials']):.2f}')\n",
    "non_ai_vs_simple = stats.ttest_rel(merged_df['non_ai'], merged_df['simple_stop_ssrt'])\n",
    "print(f\"T-statistic: {non_ai_vs_simple.statistic:.2f}, p-value = {non_ai_vs_simple.pvalue:.3f}\")\n",
    "\n",
    "cohens_d2 = cohens_d_paired(merged_df['non_ai'], merged_df['simple_stop_ssrt_without_short_ssd_trials'])\n",
    "mean_diff2, ci2 = calculate_ci_for_difference(merged_df['non_ai'], merged_df['simple_stop_ssrt_without_short_ssd_trials'])\n",
    "print(f\"Cohen's d: {cohens_d2:.2f}\")\n",
    "print(f\"Mean difference = {mean_diff2:.2f} ms\")\n",
    "print(f\"95% CI: [{ci2[0]:.2f}, {ci2[1]:.2f}] ms\")"
   ]
  },
  {
   "cell_type": "markdown",
   "metadata": {},
   "source": [
    "### b) Non-AI SSRT vs Simple Stop SSRT Excluding subjects with average SSDs < 200ms"
   ]
  },
  {
   "cell_type": "code",
   "execution_count": 27,
   "metadata": {},
   "outputs": [
    {
     "name": "stdout",
     "output_type": "stream",
     "text": [
      "Mean Non-AI SSRT: 280.18\n",
      "Simple Stop SSRT Excluding Subjects with SSD < 200ms: 208.59\n",
      "T-statistic: 13.51, p-value = 0.000\n",
      "Cohen's d: 3.23\n",
      "Mean difference = 71.59 ms\n",
      "95% CI: [60.83, 82.36] ms\n"
     ]
    }
   ],
   "source": [
    "# Remove rows with NaN in simple_stop_ssrt_without_short_ssd_subs\n",
    "filtered_df = merged_df.dropna(subset=['simple_stop_ssrt_without_short_ssd_subs'])\n",
    "\n",
    "print(f'Mean Non-AI SSRT: {np.mean(filtered_df['non_ai']):.2f}')\n",
    "print(f'Simple Stop SSRT Excluding Subjects with SSD < 200ms: {np.mean(filtered_df['simple_stop_ssrt_without_short_ssd_subs']):.2f}')\n",
    "non_ai_vs_simple = stats.ttest_rel(filtered_df['non_ai'], filtered_df['simple_stop_ssrt_without_short_ssd_subs'])\n",
    "print(f\"T-statistic: {non_ai_vs_simple.statistic:.2f}, p-value = {non_ai_vs_simple.pvalue:.3f}\")\n",
    "\n",
    "cohens_d2 = cohens_d_paired(filtered_df['non_ai'], filtered_df['simple_stop_ssrt_without_short_ssd_subs'])\n",
    "mean_diff2, ci2 = calculate_ci_for_difference(filtered_df['non_ai'], filtered_df['simple_stop_ssrt_without_short_ssd_subs'])\n",
    "print(f\"Cohen's d: {cohens_d2:.2f}\")\n",
    "print(f\"Mean difference = {mean_diff2:.2f} ms\")\n",
    "print(f\"95% CI: [{ci2[0]:.2f}, {ci2[1]:.2f}] ms\")"
   ]
  },
  {
   "cell_type": "code",
   "execution_count": null,
   "metadata": {},
   "outputs": [],
   "source": []
  }
 ],
 "metadata": {
  "kernelspec": {
   "display_name": "myenv",
   "language": "python",
   "name": "myenv"
  },
  "language_info": {
   "codemirror_mode": {
    "name": "ipython",
    "version": 3
   },
   "file_extension": ".py",
   "mimetype": "text/x-python",
   "name": "python",
   "nbconvert_exporter": "python",
   "pygments_lexer": "ipython3",
   "version": "3.12.4"
  }
 },
 "nbformat": 4,
 "nbformat_minor": 4
}
