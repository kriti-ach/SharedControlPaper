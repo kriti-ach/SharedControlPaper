{
 "cells": [
  {
   "cell_type": "code",
   "execution_count": 82,
   "metadata": {},
   "outputs": [],
   "source": [
    "import pandas as pd\n",
    "from scipy import stats\n",
    "import numpy as np"
   ]
  },
  {
   "cell_type": "code",
   "execution_count": 83,
   "metadata": {},
   "outputs": [],
   "source": [
    "%store -r survey_scores\n",
    "%store -r shared_control_ssrt\n",
    "%store -r go_task_accuracy_before_stop_onset\n",
    "%store -r go_task_accuracy_after_stop_onset\n",
    "%store -r duration_of_inhibition\n",
    "%store -r ssrt_first_half\n",
    "%store -r ssrt_second_half\n",
    "%store -r simple_stop_ssrt"
   ]
  },
  {
   "cell_type": "code",
   "execution_count": 109,
   "metadata": {},
   "outputs": [],
   "source": [
    "shared_control_ssrt = shared_control_ssrt.rename_axis('subject_id')\n",
    "simple_stop_ssrt = simple_stop_ssrt.rename_axis('subject_id')\n",
    "merged_df = pd.merge(shared_control_ssrt, simple_stop_ssrt[['ssrt', 'ssrt_without_short_ssd_trials', 'ssrt_without_short_ssd_subs']], \n",
    "                    left_index=True, right_index=True, how='left')\n",
    "merged_df.rename(columns={\n",
    "    'ssrt': 'simple_stop_ssrt',\n",
    "    'ssrt_without_short_ssd_trials': 'simple_stop_ssrt_without_short_ssd_trials',\n",
    "    'ssrt_without_short_ssd_subs': 'simple_stop_ssrt_without_short_ssd_subs'\n",
    "}, inplace=True)"
   ]
  },
  {
   "cell_type": "code",
   "execution_count": 85,
   "metadata": {},
   "outputs": [
    {
     "name": "stdout",
     "output_type": "stream",
     "text": [
      "Stored 'merged_df' (DataFrame)\n"
     ]
    }
   ],
   "source": [
    "# Remove the last row (the mean row)\n",
    "merged_df = merged_df.iloc[:-1, :]\n",
    "%store merged_df\n",
    "go_task_accuracy_before_stop_onset = go_task_accuracy_before_stop_onset.iloc[:-1, :]\n",
    "go_task_accuracy_after_stop_onset = go_task_accuracy_after_stop_onset.iloc[:-1, :]\n",
    "duration_of_inhibition = duration_of_inhibition.iloc[:-1, :]\n",
    "ssrt_first_half = ssrt_first_half.iloc[:-1, :]\n",
    "ssrt_second_half = ssrt_second_half.iloc[:-1, :]"
   ]
  },
  {
   "cell_type": "markdown",
   "metadata": {},
   "source": [
    "## Stats Functions"
   ]
  },
  {
   "cell_type": "code",
   "execution_count": 86,
   "metadata": {},
   "outputs": [],
   "source": [
    "def cohens_d_paired(x1, x2):\n",
    "    \"\"\"Calculate Cohen's d for paired samples\"\"\"\n",
    "    d = (x1 - x2).mean() / np.sqrt(((x1 - x2).std(ddof=1) ** 2) / 2)\n",
    "    return d\n",
    "\n",
    "def calculate_ci_for_difference(x1, x2, confidence=0.95):\n",
    "    \"\"\"Calculate confidence interval for the mean difference between two paired samples\"\"\"\n",
    "    diff = x1 - x2\n",
    "    n = len(diff)\n",
    "    mean_diff = np.mean(diff)\n",
    "    sem = stats.sem(diff)  # Standard error of the mean\n",
    "    ci = stats.t.interval(confidence, n-1, loc=mean_diff, scale=sem)\n",
    "    return mean_diff, ci"
   ]
  },
  {
   "cell_type": "code",
   "execution_count": 87,
   "metadata": {},
   "outputs": [],
   "source": [
    "def calc_stats_ind(x1, x2):\n",
    "    \"\"\"Calculate t-stat, p-value, Cohen's d, DF, 95% CI for two independent samples\"\"\"\n",
    "    t_stat, p_value = stats.ttest_ind(x1, x2, nan_policy='omit')\n",
    "    print(f\"T-statistic: {t_stat:.2f}, P-value: {p_value:.4f}\")\n",
    "\n",
    "    mean_x1 = np.mean(x1)\n",
    "    mean_x2 = np.mean(x2)\n",
    "    std_x1 = np.std(x1, ddof=1)  # Sample standard deviation\n",
    "    std_x2 = np.std(x2, ddof=1)\n",
    "\n",
    "    # Pooled standard deviation\n",
    "    n1 = len(x1)\n",
    "    n2 = len(x2)\n",
    "    pooled_std = np.sqrt(((n1 - 1) * std_x1**2 + (n2 - 1) * std_x2**2) / (n1 + n2 - 2))\n",
    "\n",
    "    # Cohen's d\n",
    "    cohens_d = (mean_x1 - mean_x2) / pooled_std\n",
    "    print(f\"Cohen's d: {cohens_d:.3f}\")\n",
    "\n",
    "    # Degrees of freedom\n",
    "    degrees_of_freedom = n1 + n2 - 2\n",
    "    print(f\"Degrees of Freedom: {degrees_of_freedom}\")\n",
    "\n",
    "    # Confidence Interval Calculation\n",
    "    mean_diff = mean_x1 - mean_x2\n",
    "    se_diff = np.sqrt((std_x1**2 / n1) + (std_x2**2 / n2))\n",
    "\n",
    "    # 95% CI\n",
    "    ci = stats.t.interval(0.95, df=degrees_of_freedom, loc=mean_diff, scale=se_diff)\n",
    "    print(f\"95% CI for mean difference: [{ci[0]:.3f}, {ci[1]:.3f}]\")"
   ]
  },
  {
   "cell_type": "markdown",
   "metadata": {},
   "source": [
    "## Planned Statistical Tests"
   ]
  },
  {
   "cell_type": "markdown",
   "metadata": {},
   "source": [
    "### AI-Disengaged vs Non-AI SSRT"
   ]
  },
  {
   "cell_type": "code",
   "execution_count": 88,
   "metadata": {},
   "outputs": [],
   "source": [
    "# Convert to ms\n",
    "merged_df.loc[:, 'non_ai'] *= 1000\n",
    "merged_df.loc[:, 'ai'] *= 1000\n",
    "merged_df.loc[:, 'ai_ai'] *= 1000"
   ]
  },
  {
   "cell_type": "code",
   "execution_count": 89,
   "metadata": {},
   "outputs": [
    {
     "name": "stdout",
     "output_type": "stream",
     "text": [
      "Mean Non-AI SSRT: 276.16931123585636\n",
      "Mean AI-Disengaged SSRT: 298.88444025864635\n",
      "T-statistic: 5.829069557315188, p-value: 8.947284304246216e-07\n"
     ]
    }
   ],
   "source": [
    "print(f'Mean Non-AI SSRT: {np.mean(merged_df['non_ai'])}')\n",
    "print(f'Mean AI-Disengaged SSRT: {np.mean(merged_df['ai'])}')\n",
    "ai_vs_non_ai = stats.ttest_rel(merged_df['ai'], merged_df['non_ai'])\n",
    "print(f\"T-statistic: {ai_vs_non_ai.statistic}, p-value: {ai_vs_non_ai.pvalue}\")"
   ]
  },
  {
   "cell_type": "code",
   "execution_count": 90,
   "metadata": {},
   "outputs": [
    {
     "name": "stdout",
     "output_type": "stream",
     "text": [
      "Cohen's d: 1.303\n",
      "Mean difference = 22.715 ms\n",
      "95% CI: [14.833, 30.597] ms\n"
     ]
    }
   ],
   "source": [
    "cohens_d1 = cohens_d_paired(merged_df['ai'], merged_df['non_ai'])\n",
    "mean_diff1, ci1 = calculate_ci_for_difference(merged_df['ai'], merged_df['non_ai'])\n",
    "print(f\"Cohen's d: {cohens_d1:.3f}\")\n",
    "print(f\"Mean difference = {mean_diff1:.3f} ms\")\n",
    "print(f\"95% CI: [{ci1[0]:.3f}, {ci1[1]:.3f}] ms\")"
   ]
  },
  {
   "cell_type": "markdown",
   "metadata": {},
   "source": [
    "### AI-Engaged vs AI-Disengaged SSRT"
   ]
  },
  {
   "cell_type": "code",
   "execution_count": 91,
   "metadata": {},
   "outputs": [
    {
     "name": "stdout",
     "output_type": "stream",
     "text": [
      "Mean AI-Engaged SSRT: 331.0309391556003\n",
      "Mean AI-Disengaged SSRT: 298.88444025864635\n",
      "T-statistic: 3.6632559828548246, p-value: 0.0007385395772012454\n"
     ]
    }
   ],
   "source": [
    "print(f'Mean AI-Engaged SSRT: {np.mean(merged_df['ai_ai'])}')\n",
    "print(f'Mean AI-Disengaged SSRT: {np.mean(merged_df['ai'])}')\n",
    "ai_ai_vs_ai = stats.ttest_rel(merged_df['ai_ai'], merged_df['ai'])\n",
    "print(f\"T-statistic: {ai_ai_vs_ai.statistic}, p-value: {ai_ai_vs_ai.pvalue}\")"
   ]
  },
  {
   "cell_type": "code",
   "execution_count": 92,
   "metadata": {},
   "outputs": [
    {
     "name": "stdout",
     "output_type": "stream",
     "text": [
      "Cohen's d: 0.819\n",
      "Mean difference = 32.146 ms\n",
      "95% CI: [14.397, 49.896] ms\n"
     ]
    }
   ],
   "source": [
    "cohens_d1 = cohens_d_paired(merged_df['ai_ai'], merged_df['ai'])\n",
    "mean_diff1, ci1 = calculate_ci_for_difference(merged_df['ai_ai'], merged_df['ai'])\n",
    "print(f\"Cohen's d: {cohens_d1:.3f}\")\n",
    "print(f\"Mean difference = {mean_diff1:.3f} ms\")\n",
    "print(f\"95% CI: [{ci1[0]:.3f}, {ci1[1]:.3f}] ms\")"
   ]
  },
  {
   "cell_type": "markdown",
   "metadata": {},
   "source": [
    "### Non-AI SSRT vs Simple Stop SSRT"
   ]
  },
  {
   "cell_type": "code",
   "execution_count": 93,
   "metadata": {},
   "outputs": [
    {
     "name": "stdout",
     "output_type": "stream",
     "text": [
      "Mean Non-AI SSRT: 276.16931123585636\n",
      "Simple Stop SSRT: 213.1577723907928\n",
      "T-statistic: 13.16166244544354, p-value = 6.286586264119194e-16\n",
      "Correlation: 0.4732056062671472\n"
     ]
    }
   ],
   "source": [
    "print(f'Mean Non-AI SSRT: {np.mean(merged_df['non_ai'])}')\n",
    "print(f'Simple Stop SSRT: {np.mean(merged_df['simple_stop_ssrt'])}')\n",
    "non_ai_vs_simple = stats.ttest_rel(merged_df['non_ai'], merged_df['simple_stop_ssrt'])\n",
    "non_ai_vs_simple_corr = np.corrcoef(merged_df['non_ai'], merged_df['simple_stop_ssrt'])[1][0]\n",
    "print(f\"T-statistic: {non_ai_vs_simple.statistic}, p-value = {non_ai_vs_simple.pvalue}\")\n",
    "print(f\"Correlation: {non_ai_vs_simple_corr}\")"
   ]
  },
  {
   "cell_type": "code",
   "execution_count": 94,
   "metadata": {},
   "outputs": [
    {
     "name": "stdout",
     "output_type": "stream",
     "text": [
      "Cohen's d: 2.943\n",
      "Mean difference = 63.012 ms\n",
      "95% CI: [53.328, 72.695] ms\n"
     ]
    }
   ],
   "source": [
    "cohens_d2 = cohens_d_paired(merged_df['non_ai'], merged_df['simple_stop_ssrt'])\n",
    "mean_diff2, ci2 = calculate_ci_for_difference(merged_df['non_ai'], merged_df['simple_stop_ssrt'])\n",
    "print(f\"Cohen's d: {cohens_d2:.3f}\")\n",
    "print(f\"Mean difference = {mean_diff2:.3f} ms\")\n",
    "print(f\"95% CI: [{ci2[0]:.3f}, {ci2[1]:.3f}] ms\")"
   ]
  },
  {
   "cell_type": "markdown",
   "metadata": {},
   "source": [
    "## Order Effects"
   ]
  },
  {
   "cell_type": "markdown",
   "metadata": {},
   "source": [
    "### Calculate order effects between subjects who had the AI block first vs. the Non-AI block first"
   ]
  },
  {
   "cell_type": "code",
   "execution_count": 95,
   "metadata": {},
   "outputs": [],
   "source": [
    "# Initialize subjects who had the Non-AI and AI Blocks first\n",
    "non_ai_first_subs = ['s004', 's009', 's008', 's011', 's012', 's015', 's016', 's019', 's020', 's023', 's024', 's027', 's028', 's031', 's032', 's035', 's036', 's039', 's040', 's043']\n",
    "ai_first_subs = ['s005', 's006', 's007', 's010', 's013', 's014', 's017', 's018', 's021', 's022', 's025', 's026', 's029', 's030', 's033', 's034', 's037', 's038', 's041', 's042']"
   ]
  },
  {
   "cell_type": "code",
   "execution_count": 96,
   "metadata": {},
   "outputs": [
    {
     "name": "stdout",
     "output_type": "stream",
     "text": [
      "T-statistic: 1.04, P-value: 0.3071\n",
      "Cohen's d: 0.327\n",
      "Degrees of Freedom: 38\n",
      "95% CI for mean difference: [-0.008, 0.024]\n",
      "Mean difference (AI first): 0.03 ms, 95% CI: [0.01, 0.04] ms\n",
      "Mean difference (Non-AI first): 0.02 ms, 95% CI: [0.01, 0.03] ms\n"
     ]
    }
   ],
   "source": [
    "ssrt_non_ai_first_non_ai = []\n",
    "ssrt_ai_first_non_ai = []\n",
    "ssrt_non_ai_first_ai = []\n",
    "ssrt_ai_first_ai = []\n",
    "ssrt_non_ai_first_ai_ai = []\n",
    "ssrt_ai_first_ai_ai = []\n",
    "\n",
    "for sub in non_ai_first_subs:\n",
    "    ssrt_non_ai_first_non_ai.append(shared_control_ssrt.loc[sub, \"non_ai\"])\n",
    "    ssrt_non_ai_first_ai.append(shared_control_ssrt.loc[sub, \"ai\"])\n",
    "    ssrt_non_ai_first_ai_ai.append(shared_control_ssrt.loc[sub, \"ai_ai\"])\n",
    "\n",
    "for sub in ai_first_subs:\n",
    "    ssrt_ai_first_non_ai.append(shared_control_ssrt.loc[sub, \"non_ai\"])\n",
    "    ssrt_ai_first_ai.append(shared_control_ssrt.loc[sub, \"ai\"])\n",
    "    ssrt_ai_first_ai_ai.append(shared_control_ssrt.loc[sub, \"ai_ai\"])\n",
    "\n",
    "# Calculate the differences between AI SSRT and Non-AI SSRT for both subject groups\n",
    "diff_non_ai_first = np.array(ssrt_non_ai_first_ai) - np.array(ssrt_non_ai_first_non_ai)  # AI - Non-AI for Non-AI first subjects\n",
    "diff_ai_first = np.array(ssrt_ai_first_ai) - np.array(ssrt_ai_first_non_ai)  # AI - Non-AI for AI first subjects\n",
    "\n",
    "calc_stats_ind(diff_ai_first, diff_non_ai_first)\n",
    "mean_ai_first = diff_ai_first.mean()\n",
    "mean_non_ai_first = diff_non_ai_first.mean()\n",
    "\n",
    "ci_ai_first = stats.t.interval(.95, len(diff_ai_first)-1, loc=mean_ai_first, scale=stats.sem(diff_ai_first))\n",
    "print(f\"Mean difference (AI first): {mean_ai_first:.2f} ms, 95% CI: [{ci_ai_first[0]:.2f}, {ci_ai_first[1]:.2f}] ms\")\n",
    "\n",
    "ci_non_ai_first = stats.t.interval(.95, len(diff_non_ai_first)-1, loc=mean_non_ai_first, scale=stats.sem(diff_non_ai_first))\n",
    "print(f\"Mean difference (Non-AI first): {mean_non_ai_first:.2f} ms, 95% CI: [{ci_non_ai_first[0]:.2f}, {ci_non_ai_first[1]:.2f}] ms\")\n"
   ]
  },
  {
   "cell_type": "markdown",
   "metadata": {},
   "source": [
    "### Calculate AI-Disengaged vs. Non-AI SSRT depending on whether they occurred in the first half or second half of the block"
   ]
  },
  {
   "cell_type": "markdown",
   "metadata": {},
   "source": [
    "#### First half"
   ]
  },
  {
   "cell_type": "code",
   "execution_count": 97,
   "metadata": {},
   "outputs": [
    {
     "name": "stdout",
     "output_type": "stream",
     "text": [
      "T-statistic: 3.283, p-value: 0.0022\n",
      "Cohen's d: 0.734\n",
      "Mean difference: 21405489301.756 ms\n",
      "95% CI: [8217011488.102, 34593967115.410] ms\n",
      "Mean Non-AI SSRT First Half: 273863893182.94824\n",
      "Mean AI-Disengaged SSRT First Half: 295269382484.7041\n"
     ]
    }
   ],
   "source": [
    "# T test for AI vs Non AI SSRT in the first half of trials\n",
    "ssrt_first_half.loc[:, 'ai_ssrt_first_half'] *= 1000\n",
    "ssrt_first_half.loc[:, 'non_ai_ssrt_first_half'] *= 1000\n",
    "\n",
    "ai_vs_non_ai = stats.ttest_rel(ssrt_first_half['ai_ssrt_first_half'], ssrt_first_half['non_ai_ssrt_first_half'])\n",
    "print(f\"T-statistic: {ai_vs_non_ai.statistic:.3f}, p-value: {ai_vs_non_ai.pvalue:.4f}\")\n",
    "\n",
    "cohens_d1 = cohens_d_paired(ssrt_first_half['ai_ssrt_first_half'], ssrt_first_half['non_ai_ssrt_first_half'])\n",
    "mean_diff1, ci1 = calculate_ci_for_difference(ssrt_first_half['ai_ssrt_first_half'], ssrt_first_half['non_ai_ssrt_first_half'])\n",
    "print(f\"Cohen's d: {cohens_d1:.3f}\")\n",
    "print(f\"Mean difference: {mean_diff1:.3f} ms\")\n",
    "print(f\"95% CI: [{ci1[0]:.3f}, {ci1[1]:.3f}] ms\")\n",
    "\n",
    "print(f'Mean Non-AI SSRT First Half: {np.mean(ssrt_first_half['non_ai_ssrt_first_half'])}')\n",
    "print(f'Mean AI-Disengaged SSRT First Half: {np.mean(ssrt_first_half['ai_ssrt_first_half'])}')"
   ]
  },
  {
   "cell_type": "markdown",
   "metadata": {},
   "source": [
    "#### Second Half"
   ]
  },
  {
   "cell_type": "code",
   "execution_count": 98,
   "metadata": {},
   "outputs": [
    {
     "name": "stdout",
     "output_type": "stream",
     "text": [
      "T-statistic: 4.820, p-value: 0.0000\n",
      "Cohen's d: 1.078\n",
      "Mean difference = 25485122537.610 ms\n",
      "95% CI: [14790540371.065, 36179704704.156] ms\n",
      "Mean Non-AI SSRT Second Half: 278474435534.9745\n",
      "Mean AI-Disengaged SSRT Second Half: 303959558072.58466\n"
     ]
    }
   ],
   "source": [
    "ssrt_second_half.loc[:, 'ai_ssrt_second_half'] *= 1000\n",
    "ssrt_second_half.loc[:, 'non_ai_ssrt_second_half'] *=1000\n",
    "ai_vs_non_ai = stats.ttest_rel(ssrt_second_half['ai_ssrt_second_half'], ssrt_second_half['non_ai_ssrt_second_half'])\n",
    "print(f\"T-statistic: {ai_vs_non_ai.statistic:.3f}, p-value: {ai_vs_non_ai.pvalue:.4f}\")\n",
    "\n",
    "cohens_d1 = cohens_d_paired(ssrt_second_half['ai_ssrt_second_half'], ssrt_second_half['non_ai_ssrt_second_half'])\n",
    "mean_diff1, ci1 = calculate_ci_for_difference(ssrt_second_half['ai_ssrt_second_half'], ssrt_second_half['non_ai_ssrt_second_half'])\n",
    "print(f\"Cohen's d: {cohens_d1:.3f}\")\n",
    "print(f\"Mean difference = {mean_diff1:.3f} ms\")\n",
    "print(f\"95% CI: [{ci1[0]:.3f}, {ci1[1]:.3f}] ms\")\n",
    "\n",
    "print(f'Mean Non-AI SSRT Second Half: {np.mean(ssrt_second_half['non_ai_ssrt_second_half'])}')\n",
    "print(f'Mean AI-Disengaged SSRT Second Half: {np.mean(ssrt_second_half['ai_ssrt_second_half'])}')"
   ]
  },
  {
   "cell_type": "markdown",
   "metadata": {},
   "source": [
    "## Exploratory T-tests and Confidence Intervals"
   ]
  },
  {
   "cell_type": "markdown",
   "metadata": {},
   "source": [
    "### Non-AI vs AI-Disengaged Duration of Inhibition"
   ]
  },
  {
   "cell_type": "code",
   "execution_count": 99,
   "metadata": {},
   "outputs": [
    {
     "name": "stdout",
     "output_type": "stream",
     "text": [
      "T-statistic: 2.692, P-value: 0.0104\n",
      "Cohen's d: 0.602\n",
      "Mean difference: 5763750019.577 ms\n",
      "95% CI: [1432575029.256, 10094925009.898] ms\n",
      "Mean Non-AI Duration of Inhibition: 41473963705.935715\n",
      "Mean AI-Disengaged Duration of Inhibition: 47237713725.513054\n"
     ]
    }
   ],
   "source": [
    "duration_of_inhibition.loc[:, 'ai'] *= 1000\n",
    "duration_of_inhibition.loc[:, 'non_ai'] *= 1000\n",
    "t_stat, p_value = stats.ttest_rel(duration_of_inhibition['ai'], duration_of_inhibition['non_ai'])\n",
    "\n",
    "print(f\"T-statistic: {t_stat:.3f}, P-value: {p_value:.4f}\")\n",
    "\n",
    "cohens_d1 = cohens_d_paired(duration_of_inhibition['ai'], \n",
    "                            duration_of_inhibition['non_ai'])\n",
    "mean_diff1, ci1 = calculate_ci_for_difference(duration_of_inhibition['ai'], \n",
    "                                              duration_of_inhibition['non_ai'])\n",
    "print(f\"Cohen's d: {cohens_d1:.3f}\")\n",
    "print(f\"Mean difference: {mean_diff1:.3f} ms\")\n",
    "print(f\"95% CI: [{ci1[0]:.3f}, {ci1[1]:.3f}] ms\")\n",
    "\n",
    "print(f'Mean Non-AI Duration of Inhibition: {np.mean(duration_of_inhibition['non_ai'])}')\n",
    "print(f'Mean AI-Disengaged Duration of Inhibition: {np.mean(duration_of_inhibition['ai'])}')"
   ]
  },
  {
   "cell_type": "markdown",
   "metadata": {},
   "source": [
    "### Non-AI vs AI-Disengaged Go Task Accuracy Before Stop Onset"
   ]
  },
  {
   "cell_type": "code",
   "execution_count": 100,
   "metadata": {},
   "outputs": [
    {
     "name": "stdout",
     "output_type": "stream",
     "text": [
      "Mean Non-AI Accuracy: 0.87\n",
      "Mean AI-Disengaged Accuracy: 0.90\n",
      "T-statistic: 2.81, P-value: 0.008\n",
      "Cohen's d: 0.63\n",
      "Mean difference = 0.03 ms\n",
      "95% CI: [0.01, 0.06] ms\n"
     ]
    }
   ],
   "source": [
    "mean_non_ai = go_task_accuracy_before_stop_onset['non_ai'].mean()\n",
    "mean_ai_disengaged = go_task_accuracy_before_stop_onset['ai'].mean()\n",
    "\n",
    "print(f\"Mean Non-AI Accuracy: {mean_non_ai:.2f}\")\n",
    "print(f\"Mean AI-Disengaged Accuracy: {mean_ai_disengaged:.2f}\")\n",
    "\n",
    "t_stat, p_value = stats.ttest_rel(go_task_accuracy_before_stop_onset['ai'], go_task_accuracy_before_stop_onset['non_ai'])\n",
    "\n",
    "print(f\"T-statistic: {t_stat:.2f}, P-value: {p_value:.3f}\")\n",
    "\n",
    "cohens_d1 = cohens_d_paired(go_task_accuracy_before_stop_onset['ai'], go_task_accuracy_before_stop_onset['non_ai'])\n",
    "mean_diff1, ci1 = calculate_ci_for_difference(go_task_accuracy_before_stop_onset['ai'], go_task_accuracy_before_stop_onset['non_ai'])\n",
    "print(f\"Cohen's d: {cohens_d1:.2f}\")\n",
    "print(f\"Mean difference = {mean_diff1:.2f} ms\")\n",
    "print(f\"95% CI: [{ci1[0]:.2f}, {ci1[1]:.2f}] ms\")\n"
   ]
  },
  {
   "cell_type": "markdown",
   "metadata": {},
   "source": [
    "### Non-AI vs AI-Disengaged Go Task Accuracy After Stop Onset (aka Stop Success Rate)"
   ]
  },
  {
   "cell_type": "code",
   "execution_count": 101,
   "metadata": {},
   "outputs": [
    {
     "name": "stdout",
     "output_type": "stream",
     "text": [
      "Mean Non-AI Accuracy: 0.59\n",
      "Mean AI Disengaged Accuracy: 0.40\n",
      "T-statistic: -8.88, P-value: 0.000\n",
      "Cohen's d: -1.98\n",
      "Mean difference = -0.19 ms\n",
      "95% CI: [-0.24, -0.15] ms\n"
     ]
    }
   ],
   "source": [
    "mean_non_ai = go_task_accuracy_after_stop_onset['non_ai'].mean()\n",
    "mean_ai_disengaged = go_task_accuracy_after_stop_onset['ai'].mean()\n",
    "\n",
    "print(f\"Mean Non-AI Accuracy: {mean_non_ai:.2f}\")\n",
    "print(f\"Mean AI Disengaged Accuracy: {mean_ai_disengaged:.2f}\")\n",
    "\n",
    "t_stat, p_value = stats.ttest_rel(go_task_accuracy_after_stop_onset['ai'], go_task_accuracy_after_stop_onset['non_ai'])\n",
    "\n",
    "print(f\"T-statistic: {t_stat:.2f}, P-value: {p_value:.3f}\")\n",
    "\n",
    "cohens_d1 = cohens_d_paired(go_task_accuracy_after_stop_onset['ai'], go_task_accuracy_after_stop_onset['non_ai'])\n",
    "mean_diff1, ci1 = calculate_ci_for_difference(go_task_accuracy_after_stop_onset['ai'], go_task_accuracy_after_stop_onset['non_ai'])\n",
    "print(f\"Cohen's d: {cohens_d1:.2f}\")\n",
    "print(f\"Mean difference = {mean_diff1:.2f} ms\")\n",
    "print(f\"95% CI: [{ci1[0]:.2f}, {ci1[1]:.2f}] ms\")"
   ]
  },
  {
   "cell_type": "markdown",
   "metadata": {},
   "source": [
    "### Non-AI vs AI-Disengaged SSRT in subjects who did not show proactive slowing"
   ]
  },
  {
   "cell_type": "code",
   "execution_count": 102,
   "metadata": {},
   "outputs": [],
   "source": [
    "# Identify non-proactive slowing subjects\n",
    "non_proactive_slowing_mask = (go_task_accuracy_before_stop_onset['non_ai'] > \n",
    "                               go_task_accuracy_before_stop_onset['ai'])\n",
    "non_proactive_slowing_subs = go_task_accuracy_before_stop_onset.index[non_proactive_slowing_mask].tolist()\n",
    "ssrt_non_ai = shared_control_ssrt['non_ai']\n",
    "ssrt_ai = shared_control_ssrt['ai']\n",
    "\n",
    "ssrt_data = pd.DataFrame({\n",
    "    'subject_id': shared_control_ssrt.index,\n",
    "    'ssrt_non_ai': ssrt_non_ai,\n",
    "    'ssrt_ai': ssrt_ai\n",
    "})\n",
    "\n",
    "ssrt_data = ssrt_data[ssrt_data['subject_id'] != 'mean'] #remove mean row\n",
    "\n",
    "ssrt_data['difference_ms'] = (ssrt_data['ssrt_ai'] - ssrt_data['ssrt_non_ai'])*1000 # find ai-disengaged - non ai ssrt\n",
    "ssrt_data['slowing_type'] = ['Non-Proactive' if subject in non_proactive_slowing_subs else 'Proactive' \n",
    "                              for subject in ssrt_data['subject_id']]\n",
    "\n",
    "non_proactive_slowing_data = ssrt_data[ssrt_data['slowing_type'] == 'Non-Proactive']"
   ]
  },
  {
   "cell_type": "code",
   "execution_count": 103,
   "metadata": {},
   "outputs": [
    {
     "name": "stdout",
     "output_type": "stream",
     "text": [
      "T-statistic: 2.936, P-value: 0.0166\n",
      "Cohen's d: 1.313\n",
      "Mean difference = 30.018 ms\n",
      "95% CI: [6.893, 53.142] ms\n",
      "Mean Non-AI SSRT: 267.6881218329072\n",
      "Mean AI-Disengaged SSRT: 297.70585892177377\n"
     ]
    }
   ],
   "source": [
    "non_proactive_slowing_data.loc[:, 'ssrt_ai'] *= 1000\n",
    "non_proactive_slowing_data.loc[:, 'ssrt_non_ai'] *= 1000\n",
    "t_stat, p_value = stats.ttest_rel(non_proactive_slowing_data['ssrt_ai'], non_proactive_slowing_data['ssrt_non_ai'])\n",
    "\n",
    "print(f\"T-statistic: {t_stat:.3f}, P-value: {p_value:.4f}\")\n",
    "\n",
    "cohens_d1 = cohens_d_paired(non_proactive_slowing_data['ssrt_ai'], non_proactive_slowing_data['ssrt_non_ai'])\n",
    "mean_diff1, ci1 = calculate_ci_for_difference(non_proactive_slowing_data['ssrt_ai'], non_proactive_slowing_data['ssrt_non_ai'])\n",
    "print(f\"Cohen's d: {cohens_d1:.3f}\")\n",
    "print(f\"Mean difference = {mean_diff1:.3f} ms\")\n",
    "print(f\"95% CI: [{ci1[0]:.3f}, {ci1[1]:.3f}] ms\")\n",
    "\n",
    "print(f'Mean Non-AI SSRT: {np.mean(non_proactive_slowing_data['ssrt_non_ai'])}')\n",
    "print(f'Mean AI-Disengaged SSRT: {np.mean(non_proactive_slowing_data['ssrt_ai'])}')"
   ]
  },
  {
   "cell_type": "markdown",
   "metadata": {},
   "source": [
    "### T-test comparing AI-Disengaged minus Non-AI SSRT in subjects who proactively slowed and did not proactively slow"
   ]
  },
  {
   "cell_type": "code",
   "execution_count": 104,
   "metadata": {},
   "outputs": [
    {
     "name": "stdout",
     "output_type": "stream",
     "text": [
      "T-statistic: 1.08, P-value: 0.2850\n",
      "Cohen's d: 0.396\n",
      "Degrees of Freedom: 38\n",
      "95% CI for mean difference: [-12.448, 31.922]\n",
      "Mean difference (Non-Proactive): 30.018 ms\n",
      "Mean difference (Proactive): 20.281 ms\n"
     ]
    }
   ],
   "source": [
    "non_proactive_differences = ssrt_data[ssrt_data['slowing_type'] == 'Non-Proactive']['difference_ms'].dropna()\n",
    "proactive_differences = ssrt_data[ssrt_data['slowing_type'] == 'Proactive']['difference_ms'].dropna()\n",
    "\n",
    "calc_stats_ind(non_proactive_differences, proactive_differences)\n",
    "mean_non_proactive = ssrt_data[ssrt_data['slowing_type'] == 'Non-Proactive']['difference_ms'].mean()\n",
    "mean_proactive = ssrt_data[ssrt_data['slowing_type'] == 'Proactive']['difference_ms'].mean()\n",
    "\n",
    "print(f\"Mean difference (Non-Proactive): {mean_non_proactive:.3f} ms\")\n",
    "\n",
    "print(f\"Mean difference (Proactive): {mean_proactive:.3f} ms\")\n"
   ]
  },
  {
   "cell_type": "markdown",
   "metadata": {},
   "source": [
    "## Correlate survey scores with SSRT"
   ]
  },
  {
   "cell_type": "code",
   "execution_count": 105,
   "metadata": {},
   "outputs": [
    {
     "name": "stdout",
     "output_type": "stream",
     "text": [
      "Correlation and p-value between SSRT and survey scores: -0.06668117800291128, 0.6826781257173478\n"
     ]
    }
   ],
   "source": [
    "avg_df = merged_df.merge(survey_scores, on='subject_id', how='left')\n",
    "avg_df['difference_ai_disengaged_and_non_ai_ssrt'] = avg_df['ai'] - avg_df['non_ai']\n",
    "correlation, pval = stats.pearsonr(avg_df['average_score'], avg_df[\"difference_ai_disengaged_and_non_ai_ssrt\"])\n",
    "print(f\"Correlation and p-value between SSRT and survey scores: {correlation}, {pval}\")"
   ]
  },
  {
   "cell_type": "markdown",
   "metadata": {},
   "source": [
    "## Violations of Context Independence in Simple Stop Data"
   ]
  },
  {
   "cell_type": "markdown",
   "metadata": {},
   "source": [
    "### a) Non-AI SSRT vs Simple Stop SSRT Excluding trials with SSD < 200 ms"
   ]
  },
  {
   "cell_type": "code",
   "execution_count": 106,
   "metadata": {},
   "outputs": [
    {
     "name": "stdout",
     "output_type": "stream",
     "text": [
      "Mean Non-AI SSRT: 276.16931123585636\n",
      "Simple Stop SSRT Excluding Trials with SSD < 200ms: 211.18777607787916\n",
      "T-statistic: 13.16166244544354, p-value = 6.286586264119194e-16\n",
      "Cohen's d: 3.208\n",
      "Mean difference = 64.982 ms\n",
      "95% CI: [55.819, 74.144] ms\n"
     ]
    }
   ],
   "source": [
    "print(f'Mean Non-AI SSRT: {np.mean(merged_df['non_ai'])}')\n",
    "print(f'Simple Stop SSRT Excluding Trials with SSD < 200ms: {np.mean(merged_df['simple_stop_ssrt_without_short_ssd_trials'])}')\n",
    "non_ai_vs_simple = stats.ttest_rel(merged_df['non_ai'], merged_df['simple_stop_ssrt'])\n",
    "print(f\"T-statistic: {non_ai_vs_simple.statistic}, p-value = {non_ai_vs_simple.pvalue}\")\n",
    "\n",
    "cohens_d2 = cohens_d_paired(merged_df['non_ai'], merged_df['simple_stop_ssrt_without_short_ssd_trials'])\n",
    "mean_diff2, ci2 = calculate_ci_for_difference(merged_df['non_ai'], merged_df['simple_stop_ssrt_without_short_ssd_trials'])\n",
    "print(f\"Cohen's d: {cohens_d2:.3f}\")\n",
    "print(f\"Mean difference = {mean_diff2:.3f} ms\")\n",
    "print(f\"95% CI: [{ci2[0]:.3f}, {ci2[1]:.3f}] ms\")"
   ]
  },
  {
   "cell_type": "markdown",
   "metadata": {},
   "source": [
    "### b) Non-AI SSRT vs Simple Stop SSRT Excluding subjects with average SSDs < 200ms"
   ]
  },
  {
   "cell_type": "code",
   "execution_count": 108,
   "metadata": {},
   "outputs": [
    {
     "name": "stdout",
     "output_type": "stream",
     "text": [
      "Mean Non-AI SSRT: 279.75175769064026\n",
      "Simple Stop SSRT Excluding Subjects with SSD < 200ms: 211.80287395613362\n",
      "T-statistic: 13.167887180372727, p-value = 1.8257545943366015e-14\n",
      "Cohen's d: 3.242\n",
      "Mean difference = 67.949 ms\n",
      "95% CI: [57.438, 78.460] ms\n"
     ]
    }
   ],
   "source": [
    "# Remove rows with NaN in simple_stop_ssrt_without_short_ssd_subs\n",
    "filtered_df = merged_df.dropna(subset=['simple_stop_ssrt_without_short_ssd_subs'])\n",
    "\n",
    "print(f'Mean Non-AI SSRT: {np.mean(filtered_df['non_ai'])}')\n",
    "print(f'Simple Stop SSRT Excluding Subjects with SSD < 200ms: {np.mean(filtered_df['simple_stop_ssrt_without_short_ssd_subs'])}')\n",
    "non_ai_vs_simple = stats.ttest_rel(filtered_df['non_ai'], filtered_df['simple_stop_ssrt_without_short_ssd_subs'])\n",
    "print(f\"T-statistic: {non_ai_vs_simple.statistic}, p-value = {non_ai_vs_simple.pvalue}\")\n",
    "\n",
    "cohens_d2 = cohens_d_paired(filtered_df['non_ai'], filtered_df['simple_stop_ssrt_without_short_ssd_subs'])\n",
    "mean_diff2, ci2 = calculate_ci_for_difference(filtered_df['non_ai'], filtered_df['simple_stop_ssrt_without_short_ssd_subs'])\n",
    "print(f\"Cohen's d: {cohens_d2:.3f}\")\n",
    "print(f\"Mean difference = {mean_diff2:.3f} ms\")\n",
    "print(f\"95% CI: [{ci2[0]:.3f}, {ci2[1]:.3f}] ms\")"
   ]
  }
 ],
 "metadata": {
  "kernelspec": {
   "display_name": "myenv",
   "language": "python",
   "name": "myenv"
  },
  "language_info": {
   "codemirror_mode": {
    "name": "ipython",
    "version": 3
   },
   "file_extension": ".py",
   "mimetype": "text/x-python",
   "name": "python",
   "nbconvert_exporter": "python",
   "pygments_lexer": "ipython3",
   "version": "3.12.4"
  }
 },
 "nbformat": 4,
 "nbformat_minor": 4
}
