{
 "cells": [
  {
   "cell_type": "code",
   "execution_count": 1,
   "metadata": {},
   "outputs": [],
   "source": [
    "import pandas as pd\n",
    "import os\n",
    "import numpy as np"
   ]
  },
  {
   "cell_type": "code",
   "execution_count": 2,
   "metadata": {},
   "outputs": [],
   "source": [
    "parent_directory = os.path.dirname(os.getcwd())\n",
    "survey_directory = os.path.join(parent_directory, 'data', 'surveys', 'final')\n",
    "surveys = ['demographics_survey__stanford']\n",
    "\n",
    "survey_results = {\n",
    "    'age': [],\n",
    "    'gender_counts': {\n",
    "        'Male': 0,\n",
    "        'Female': 0,\n",
    "        'Non-binary/Third Gender': 0,\n",
    "        'Prefer not to answer': 0\n",
    "    }\n",
    "}\n",
    "\n",
    "gender_options = {\n",
    "    0: 'Male',\n",
    "    1: 'Female',\n",
    "    2: 'Non-binary/Third Gender',\n",
    "    3: 'Prefer not to answer'\n",
    "}"
   ]
  },
  {
   "cell_type": "code",
   "execution_count": 3,
   "metadata": {},
   "outputs": [],
   "source": [
    "for foldername in os.listdir(survey_directory):\n",
    "    folder_path = os.path.join(survey_directory, foldername)\n",
    "    if os.path.isdir(folder_path):\n",
    "        for filename in os.listdir(folder_path):\n",
    "            if filename.endswith('.csv'):\n",
    "                if any(survey in filename for survey in surveys):\n",
    "                    subject_id = filename.split('_')[0]\n",
    "                    df = pd.read_csv(os.path.join(folder_path, filename))\n",
    "\n",
    "                    age_row = df[df['text'] == \"How old are you (in years)?\"]\n",
    "                    if not age_row.empty:\n",
    "                        age_res = age_row['response'].values[0]\n",
    "                        survey_results['age'].append(age_res)\n",
    "\n",
    "                    gender_row = df[df['text'].str.contains(\"What is your gender?\", na=False)]\n",
    "                    if not gender_row.empty:\n",
    "                        gender_res = gender_row['response'].values[0]\n",
    "                        gender_res = int(gender_res)\n",
    "                        if gender_res in gender_options:\n",
    "                            survey_results['gender_counts'][gender_options[gender_res]] += 1\n",
    "                        "
   ]
  },
  {
   "cell_type": "code",
   "execution_count": 4,
   "metadata": {},
   "outputs": [
    {
     "name": "stdout",
     "output_type": "stream",
     "text": [
      "Survey Results:\n",
      "Average Age: 26.2\n",
      "Standard Deviation of Age: 8.14673129354533\n",
      "Gender Counts: {'Male': 15, 'Female': 22, 'Non-binary/Third Gender': 2, 'Prefer not to answer': 0}\n"
     ]
    }
   ],
   "source": [
    "if survey_results['age']:\n",
    "    survey_results['age'] = [int(age) for age in survey_results['age']]\n",
    "    survey_results['age'].append(20) #S019's age is 20 from redcap. They didn't complete the demographics survey\n",
    "    average_age = np.mean(survey_results['age'])\n",
    "    std_age = pd.Series(survey_results['age']).std()\n",
    "else:\n",
    "    average_age = None\n",
    "    std_age = None\n",
    "\n",
    "survey_results['average_age'] = average_age\n",
    "survey_results['std_age'] = std_age\n",
    "\n",
    "print(\"Survey Results:\")\n",
    "print(\"Average Age:\", survey_results['average_age'])\n",
    "print(\"Standard Deviation of Age:\", survey_results['std_age'])\n",
    "print(\"Gender Counts:\", survey_results['gender_counts']) #S019's gender is female. They didn't complete the demographics survey."
   ]
  }
 ],
 "metadata": {
  "kernelspec": {
   "display_name": "base",
   "language": "python",
   "name": "python3"
  },
  "language_info": {
   "codemirror_mode": {
    "name": "ipython",
    "version": 3
   },
   "file_extension": ".py",
   "mimetype": "text/x-python",
   "name": "python",
   "nbconvert_exporter": "python",
   "pygments_lexer": "ipython3",
   "version": "3.12.4"
  }
 },
 "nbformat": 4,
 "nbformat_minor": 2
}
