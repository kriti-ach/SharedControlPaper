{
 "cells": [
  {
   "cell_type": "code",
   "execution_count": 4,
   "id": "bb169378-75fe-47d9-950c-3dccdd8389bd",
   "metadata": {},
   "outputs": [],
   "source": [
    "import pandas as pd\n",
    "import os"
   ]
  },
  {
   "cell_type": "markdown",
   "id": "3714b748",
   "metadata": {},
   "source": [
    "## Generate Table 1"
   ]
  },
  {
   "cell_type": "code",
   "execution_count": 5,
   "id": "c1b2adb0",
   "metadata": {},
   "outputs": [],
   "source": [
    "%store -r simple_stop_ssrt\n",
    "parent_directory = os.path.dirname(os.getcwd())"
   ]
  },
  {
   "cell_type": "code",
   "execution_count": 6,
   "id": "3cd3cfab",
   "metadata": {},
   "outputs": [
    {
     "data": {
      "text/html": [
       "<div>\n",
       "<style scoped>\n",
       "    .dataframe tbody tr th:only-of-type {\n",
       "        vertical-align: middle;\n",
       "    }\n",
       "\n",
       "    .dataframe tbody tr th {\n",
       "        vertical-align: top;\n",
       "    }\n",
       "\n",
       "    .dataframe thead th {\n",
       "        text-align: right;\n",
       "    }\n",
       "</style>\n",
       "<table border=\"1\" class=\"dataframe\">\n",
       "  <thead>\n",
       "    <tr style=\"text-align: right;\">\n",
       "      <th></th>\n",
       "      <th>Mean</th>\n",
       "      <th>SD</th>\n",
       "    </tr>\n",
       "  </thead>\n",
       "  <tbody>\n",
       "    <tr>\n",
       "      <th>Go Task RT (ms)</th>\n",
       "      <td>552.69</td>\n",
       "      <td>127.00</td>\n",
       "    </tr>\n",
       "    <tr>\n",
       "      <th>Go Task Accuracy</th>\n",
       "      <td>0.95</td>\n",
       "      <td>0.08</td>\n",
       "    </tr>\n",
       "    <tr>\n",
       "      <th>Stop-Failure RT (ms)</th>\n",
       "      <td>480.62</td>\n",
       "      <td>98.98</td>\n",
       "    </tr>\n",
       "    <tr>\n",
       "      <th>Stop-Failure Rate</th>\n",
       "      <td>0.50</td>\n",
       "      <td>0.03</td>\n",
       "    </tr>\n",
       "    <tr>\n",
       "      <th>SSD (ms)</th>\n",
       "      <td>324.15</td>\n",
       "      <td>105.73</td>\n",
       "    </tr>\n",
       "    <tr>\n",
       "      <th>SSRT (ms)</th>\n",
       "      <td>210.57</td>\n",
       "      <td>33.98</td>\n",
       "    </tr>\n",
       "  </tbody>\n",
       "</table>\n",
       "</div>"
      ],
      "text/plain": [
       "                        Mean      SD\n",
       "Go Task RT (ms)       552.69  127.00\n",
       "Go Task Accuracy        0.95    0.08\n",
       "Stop-Failure RT (ms)  480.62   98.98\n",
       "Stop-Failure Rate       0.50    0.03\n",
       "SSD (ms)              324.15  105.73\n",
       "SSRT (ms)             210.57   33.98"
      ]
     },
     "execution_count": 6,
     "metadata": {},
     "output_type": "execute_result"
    }
   ],
   "source": [
    "metrics = simple_stop_ssrt.iloc[:-2] #remove the mean and sd rows at the end of 'metrics'\n",
    "# Calculate the mean and standard deviation for the specified metrics\n",
    "mean_values = metrics[['go_rt', 'go_acc', 'stop_fail_rt', 'stop_fail_rate', 'avg_ssd', 'ssrt']].mean().to_frame().T\n",
    "sd_values = metrics[['go_rt', 'go_acc', 'stop_fail_rt', 'stop_fail_rate', 'avg_ssd', 'ssrt']].std().to_frame().T\n",
    "\n",
    "# Combine mean and standard deviation into a single DataFrame\n",
    "metrics_mean_sd = pd.concat([mean_values, sd_values], ignore_index=True)\n",
    "metrics_mean_sd.index = ['Mean', 'SD']\n",
    "\n",
    "new_column_names = {\n",
    "    'go_rt': 'Go Task RT (ms)',\n",
    "    'go_acc': 'Go Task Accuracy',\n",
    "    'stop_fail_rt': 'Stop-Failure RT (ms)',\n",
    "    'stop_fail_rate': 'Stop-Failure Rate',\n",
    "    'avg_ssd': 'SSD (ms)',\n",
    "    'ssrt': 'SSRT (ms)'\n",
    "}\n",
    "\n",
    "\n",
    "metrics_mean_sd = metrics_mean_sd.rename(columns=new_column_names)\n",
    "metrics_mean_sd = metrics_mean_sd.round(2)\n",
    "metrics_mean_sd = metrics_mean_sd.T\n",
    "\n",
    "metrics_mean_sd.to_csv(f'{parent_directory}/tables/table1.csv')\n",
    "metrics_mean_sd\n"
   ]
  }
 ],
 "metadata": {
  "kernelspec": {
   "display_name": "myenv",
   "language": "python",
   "name": "myenv"
  },
  "language_info": {
   "codemirror_mode": {
    "name": "ipython",
    "version": 3
   },
   "file_extension": ".py",
   "mimetype": "text/x-python",
   "name": "python",
   "nbconvert_exporter": "python",
   "pygments_lexer": "ipython3",
   "version": "3.12.4"
  }
 },
 "nbformat": 4,
 "nbformat_minor": 5
}
