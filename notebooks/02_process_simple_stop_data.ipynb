{
 "cells": [
  {
   "cell_type": "code",
   "execution_count": 55,
   "metadata": {},
   "outputs": [],
   "source": [
    "import pandas as pd\n",
    "import glob\n",
    "import os\n",
    "import sys\n",
    "sys.path.append('../src')\n",
    "from sharedcontrolpaper.force_sensitive_stopping_task_utils import get_subject_label\n",
    "from sharedcontrolpaper.simple_stop_utils import compute_SSRT, preprocess_stop_data, analyze_violations"
   ]
  },
  {
   "cell_type": "code",
   "execution_count": 56,
   "metadata": {},
   "outputs": [],
   "source": [
    "parent_directory = os.path.dirname(os.getcwd())\n",
    "data_path = os.path.join(parent_directory, 'data', 'experiment')\n",
    "exp_stage = \"final/\"\n",
    "task = \"simple_stop\"\n",
    "\n",
    "pattern = os.path.join(data_path, exp_stage, '*', task, '*.csv')\n",
    "\n",
    "data_files = glob.glob(pattern)"
   ]
  },
  {
   "cell_type": "code",
   "execution_count": 57,
   "metadata": {},
   "outputs": [
    {
     "name": "stdout",
     "output_type": "stream",
     "text": [
      "Stored 'final_aggregated_results' (DataFrame)\n"
     ]
    }
   ],
   "source": [
    "task_metrics = {}\n",
    "all_violations_df = pd.DataFrame()\n",
    "for file in data_files:\n",
    "    subject_label = get_subject_label(file)\n",
    "    \n",
    "    df = pd.read_csv(file)\n",
    "\n",
    "    if subject_label == 's019':\n",
    "        df = df[df[\"Block\"] != 2]\n",
    "    # Preprocess data\n",
    "    df = preprocess_stop_data(df)\n",
    "    \n",
    "    # Analyze violations and aggregate results\n",
    "    violations_df = analyze_violations(df)\n",
    "    all_violations_df = pd.concat([all_violations_df, violations_df], ignore_index=True)\n",
    "\n",
    "    # Calculate other task metrics\n",
    "    go_rt = df.query(\"trialType == 'go'\").rt.mean()\n",
    "    stop_fail_rt = df.query(\"trialType == 'stop'\").rt.mean()\n",
    "    go_acc = df.query(\"trialType == 'go'\").go_acc.mean()\n",
    "    stop_fail_acc = df.query(\"trialType == 'stop'\").stop_failure_acc.mean()\n",
    "    stop_success = df.query(\"trialType == 'stop'\").stop_acc.mean()\n",
    "    stop_fail_rate = 1 - stop_success\n",
    "    avg_ssd = df.query(\"trialType == 'stop'\").ssd.mean()\n",
    "    min_ssd = df.query(\"trialType == 'stop'\").ssd.min()\n",
    "    max_ssd = df.query(\"trialType == 'stop'\").ssd.max()\n",
    "    min_ssd_count = (df.query(\"trialType == 'stop'\").ssd == 0).sum()\n",
    "    max_ssd_count = (df.query(\"trialType == 'stop'\").ssd == 0.75).sum()\n",
    "\n",
    "    ssrt = compute_SSRT(df)\n",
    "    ssrt_without_short_ssd_trials = compute_SSRT(df, without_short_ssd_trials = True)\n",
    "    if avg_ssd < 200:\n",
    "        ssrt_without_short_ssd_subs = None\n",
    "    else:\n",
    "        ssrt_without_short_ssd_subs = ssrt\n",
    "\n",
    "    \n",
    "    task_metrics[subject_label] = {\n",
    "        'go_rt': go_rt,\n",
    "        'stop_fail_rt': stop_fail_rt,\n",
    "        'go_acc': go_acc,\n",
    "        'stop_fail_acc': stop_fail_acc,\n",
    "        'stop_success': stop_success,\n",
    "        'stop_fail_rate': stop_fail_rate,\n",
    "        'avg_ssd': avg_ssd,\n",
    "        'min_ssd': min_ssd,\n",
    "        'max_ssd': max_ssd,\n",
    "        'min_ssd_count': min_ssd_count,\n",
    "        'max_ssd_count': max_ssd_count,\n",
    "        'ssrt': ssrt,\n",
    "        'ssrt_without_short_ssd_subs': ssrt_without_short_ssd_subs,\n",
    "        'ssrt_without_short_ssd_trials': ssrt_without_short_ssd_trials,\n",
    "    }\n",
    "    \n",
    "final_aggregated_results = all_violations_df.groupby('ssd').agg(\n",
    "    count=('difference', 'count'),\n",
    "    avg_difference=('difference', 'mean'),\n",
    "    all_differences=('difference', lambda x: list(x))\n",
    "    ).reset_index()\n",
    "%store final_aggregated_results"
   ]
  },
  {
   "cell_type": "code",
   "execution_count": 58,
   "metadata": {},
   "outputs": [
    {
     "name": "stdout",
     "output_type": "stream",
     "text": [
      "Stored 'simple_stop_ssrt' (DataFrame)\n"
     ]
    }
   ],
   "source": [
    "metrics = pd.DataFrame(task_metrics).T\n",
    "metrics = metrics.sort_index()\n",
    "mean_row = metrics.mean(skipna=True)\n",
    "sd_row = metrics.std(skipna=True)\n",
    "metrics = pd.concat([metrics, mean_row.rename('mean').to_frame().T, sd_row.rename('sd').to_frame().T])\n",
    "simple_stop_ssrt = metrics\n",
    "%store simple_stop_ssrt"
   ]
  }
 ],
 "metadata": {
  "kernelspec": {
   "display_name": "myenv",
   "language": "python",
   "name": "myenv"
  },
  "language_info": {
   "codemirror_mode": {
    "name": "ipython",
    "version": 3
   },
   "file_extension": ".py",
   "mimetype": "text/x-python",
   "name": "python",
   "nbconvert_exporter": "python",
   "pygments_lexer": "ipython3",
   "version": "3.12.4"
  }
 },
 "nbformat": 4,
 "nbformat_minor": 2
}
