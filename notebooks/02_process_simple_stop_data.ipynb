{
 "cells": [
  {
   "cell_type": "code",
   "execution_count": 6,
   "metadata": {},
   "outputs": [],
   "source": [
    "import pandas as pd\n",
    "import glob\n",
    "import os\n",
    "from sharedcontrolpaper.force_sensitive_stopping_task_utils import get_subject_label\n",
    "from sharedcontrolpaper.simple_stop_utils import compute_SSRT, preprocess_stop_data, analyze_violations"
   ]
  },
  {
   "cell_type": "code",
   "execution_count": 7,
   "metadata": {},
   "outputs": [],
   "source": [
    "parent_directory = os.path.dirname(os.getcwd())\n",
    "data_path = os.path.join(parent_directory, 'data', 'experiment')\n",
    "exp_stage = \"final/\"\n",
    "task = \"simple_stop\"\n",
    "\n",
    "pattern = os.path.join(data_path, exp_stage, '*', task, '*.csv')\n",
    "\n",
    "data_files = glob.glob(pattern)"
   ]
  },
  {
   "cell_type": "code",
   "execution_count": 8,
   "metadata": {},
   "outputs": [
    {
     "name": "stdout",
     "output_type": "stream",
     "text": [
      "Stored 'final_aggregated_results' (DataFrame)\n"
     ]
    }
   ],
   "source": [
    "def process_all_data(data_files):\n",
    "    \"\"\"Processes all data files efficiently using pandas.\"\"\"\n",
    "    all_violations_df = pd.DataFrame()\n",
    "    task_metrics = {}\n",
    "\n",
    "    for file in data_files:\n",
    "        subject_label = get_subject_label(file)\n",
    "        df = pd.read_csv(file)\n",
    "\n",
    "        if subject_label == 's019':\n",
    "            df = df[df[\"Block\"] != 2]\n",
    "\n",
    "        df = preprocess_stop_data(df)\n",
    "        violations_df = analyze_violations(df)\n",
    "\n",
    "        #Efficiently filter SSDs\n",
    "        ssd_counts = violations_df['ssd'].value_counts()\n",
    "        violations_df = violations_df[violations_df['ssd'].isin(ssd_counts[ssd_counts >= 2].index)]\n",
    "        all_violations_df = pd.concat([all_violations_df, violations_df], ignore_index=True)\n",
    "\n",
    "\n",
    "        # Efficiently calculate metrics using pandas boolean indexing and groupby\n",
    "        go_data = df[df['trialType'] == 'go']\n",
    "        stop_data = df[df['trialType'] == 'stop']\n",
    "\n",
    "        metrics = {\n",
    "            'go_rt': go_data['rt'].mean(),\n",
    "            'stop_fail_rt': stop_data['rt'].mean(),\n",
    "            'go_acc': go_data['go_acc'].mean(),\n",
    "            'stop_fail_acc': stop_data['stop_failure_acc'].mean(),\n",
    "            'stop_success': stop_data['stop_acc'].mean(),\n",
    "            'stop_fail_rate': 1 - stop_data['stop_acc'].mean(),\n",
    "            'avg_ssd': stop_data['ssd'].mean(),\n",
    "            'min_ssd': stop_data['ssd'].min(),\n",
    "            'max_ssd': stop_data['ssd'].max(),\n",
    "            'min_ssd_count': (stop_data['ssd'] == stop_data['ssd'].min()).sum(),\n",
    "            'max_ssd_count': (stop_data['ssd'] == stop_data['ssd'].max()).sum(),\n",
    "            'ssrt': compute_SSRT(df),\n",
    "            'ssrt_without_short_ssd_trials': compute_SSRT(df, without_short_ssd_trials=True),\n",
    "            'ssrt_without_short_ssd_subs': compute_SSRT(df) if stop_data['ssd'].mean() >= 200 else None,\n",
    "        }\n",
    "        task_metrics[subject_label] = metrics\n",
    "\n",
    "    final_aggregated_results = all_violations_df.groupby('ssd').agg(\n",
    "        count=('difference', 'count'),\n",
    "        avg_difference=('difference', 'mean'),\n",
    "        all_differences=('difference', list)\n",
    "    ).reset_index()\n",
    "\n",
    "    return task_metrics, final_aggregated_results\n",
    "task_metrics, final_aggregated_results = process_all_data(data_files)\n",
    "%store final_aggregated_results"
   ]
  },
  {
   "cell_type": "code",
   "execution_count": 13,
   "metadata": {},
   "outputs": [
    {
     "name": "stdout",
     "output_type": "stream",
     "text": [
      "Stored 'simple_stop_metrics' (DataFrame)\n"
     ]
    }
   ],
   "source": [
    "simple_stop_metrics = pd.DataFrame(task_metrics).T\n",
    "simple_stop_metrics = metrics.sort_index()\n",
    "mean_row = simple_stop_metrics.mean(skipna=True)\n",
    "sd_row = simple_stop_metrics.std(skipna=True)\n",
    "simple_stop_metrics = pd.concat([simple_stop_metrics, mean_row.rename('mean').to_frame().T, sd_row.rename('sd').to_frame().T])\n",
    "%store simple_stop_metrics"
   ]
  }
 ],
 "metadata": {
  "kernelspec": {
   "display_name": "myenv",
   "language": "python",
   "name": "myenv"
  },
  "language_info": {
   "codemirror_mode": {
    "name": "ipython",
    "version": 3
   },
   "file_extension": ".py",
   "mimetype": "text/x-python",
   "name": "python",
   "nbconvert_exporter": "python",
   "pygments_lexer": "ipython3",
   "version": "3.12.4"
  }
 },
 "nbformat": 4,
 "nbformat_minor": 4
}
