{
 "cells": [
  {
   "cell_type": "code",
   "execution_count": 34,
   "metadata": {},
   "outputs": [],
   "source": [
    "import pandas as pd\n",
    "import numpy as np\n",
    "import glob\n",
    "import os\n",
    "import sys\n",
    "sys.path.append('../src')\n",
    "from sharedcontrolpaper.utils import get_subject_label"
   ]
  },
  {
   "cell_type": "code",
   "execution_count": 35,
   "metadata": {},
   "outputs": [],
   "source": [
    "parent_directory = os.path.dirname(os.getcwd())\n",
    "data_path = os.path.join(parent_directory, 'data', 'experiment')\n",
    "exp_stage = \"final/\"\n",
    "task = \"simple_stop\"\n",
    "\n",
    "pattern = os.path.join(data_path, exp_stage, '*', task, '*.csv')\n",
    "\n",
    "data_files = glob.glob(pattern)"
   ]
  },
  {
   "cell_type": "code",
   "execution_count": 36,
   "metadata": {},
   "outputs": [],
   "source": [
    "def compute_SSRT(df, max_go_rt = 2):\n",
    "    \"\"\"\n",
    "    Compute Stop Signal Reaction Time (SSRT) for the simple stop task.\n",
    "\n",
    "    Parameters:\n",
    "    - df: DataFrame containing trial data.\n",
    "    - max_go_rt: Maximum allowed reaction time for go trials to replace missing values.\n",
    "\n",
    "    Returns:\n",
    "    - SSRT: The computed Stop Signal Reaction Time.\n",
    "    \"\"\"\n",
    "\n",
    "    avg_SSD = None\n",
    "    \n",
    "    df = df.query('Phase == \"test\"')\n",
    "    \n",
    "    go_trials = df.loc[df.trialType == 'go']\n",
    "    stop_df = df.loc[df.trialType == 'stop']\n",
    "\n",
    "    go_replacement_df = go_trials.where(~go_trials['rt'].isna(), max_go_rt)\n",
    "    sorted_go = go_replacement_df.rt.sort_values(ascending = True, ignore_index=True)\n",
    "    stop_failure = stop_df.loc[stop_df['rt'].notna()]\n",
    "    if len(stop_df) > 0:\n",
    "        p_respond = len(stop_failure)/len(stop_df) # proportion of stop trials where there was a response\n",
    "        avg_SSD = stop_df.ssd.mean()\n",
    "\n",
    "    nth_index = int(np.rint(p_respond*len(sorted_go))) - 1 \n",
    "\n",
    "    if nth_index < 0:\n",
    "        nth_RT = sorted_go[0]\n",
    "    elif nth_index >= len(sorted_go):\n",
    "        nth_RT = sorted_go[-1]\n",
    "    else:\n",
    "        nth_RT = sorted_go[nth_index]\n",
    "    \n",
    "    if avg_SSD:\n",
    "        SSRT = nth_RT - avg_SSD\n",
    "    else:\n",
    "        SSRT = None\n",
    "    return SSRT"
   ]
  },
  {
   "cell_type": "code",
   "execution_count": 37,
   "metadata": {},
   "outputs": [],
   "source": [
    "# Add columns for stop acc, go acc, and stop failure acc\n",
    "def preprocess_stop_data(df):\n",
    "    df = df.query(f'Phase == \"test\"')\n",
    "    df = df[['Block', 'Phase', 'trialType', 'goStim', 'correctResponse', 'ssd', 'goResp_test.keys', 'goResp_test.corr','goResp_test.rt']]\n",
    "    \n",
    "    df.loc[:, 'stop_acc'] = np.where(df['trialType'] == 'stop', \n",
    "                                 np.where(df['goResp_test.keys'].isnull(), 1, 0),  \n",
    "                                 np.nan)\n",
    "\n",
    "    df.loc[:, 'go_acc'] = np.where(df['trialType'] == 'go', \n",
    "                                   np.where(df['goResp_test.keys'] == df['correctResponse'], 1, 0), \n",
    "                                   np.nan)\n",
    "\n",
    "    df.loc[:, 'stop_failure_acc'] = np.where(\n",
    "        (df['trialType'] == 'stop') & (df['goResp_test.rt'].notna()),\n",
    "        np.where(df['goResp_test.keys'] == df['correctResponse'], 1, 0),\n",
    "        np.nan)\n",
    "    \n",
    "    df.rename(columns={'goResp_test.keys': 'response', 'goResp_test.corr': 'correct', 'goResp_test.rt': 'rt'}, inplace=True)\n",
    "    \n",
    "    return df"
   ]
  },
  {
   "cell_type": "code",
   "execution_count": 38,
   "metadata": {},
   "outputs": [],
   "source": [
    "task_metrics = {}\n",
    "for file in data_files:\n",
    "    subject_label = get_subject_label(file)\n",
    "    \n",
    "    df = pd.read_csv(file)\n",
    "\n",
    "    if subject_label == 's019':\n",
    "        df = df[df[\"stopBlocks.thisN\"] != 2] # Excluded block 2 of s019\n",
    "\n",
    "    df = preprocess_stop_data(df)\n",
    "\n",
    "    go_rt = df.query(\"trialType == 'go'\").rt.mean()\n",
    "    stop_fail_rt = df.query(\"trialType == 'stop'\").rt.mean()\n",
    "    go_acc = df.query(\"trialType == 'go'\").go_acc.mean()\n",
    "    stop_failure_acc = df.query(\"trialType == 'stop'\").stop_failure_acc.mean()\n",
    "    stop_success = df.query(\"trialType == 'stop'\").stop_acc.mean()\n",
    "    stop_failure_rate = 1 - stop_success\n",
    "    avg_ssd = df.query(\"trialType == 'stop'\").ssd.mean()\n",
    "    min_ssd = df.query(\"trialType == 'stop'\").ssd.min()\n",
    "    max_ssd = df.query(\"trialType == 'stop'\").ssd.max()\n",
    "    min_ssd_count = (df.query(\"trialType == 'stop'\").ssd == 0).sum()\n",
    "    max_ssd_count = (df.query(\"trialType == 'stop'\").ssd == 0.75).sum()\n",
    "    ssrt = compute_SSRT(df)\n",
    "\n",
    "    \n",
    "    task_metrics[subject_label] = {\n",
    "        'go_rt': go_rt,\n",
    "        'stop_fail_rt': stop_fail_rt,\n",
    "        'go_acc': go_acc,\n",
    "        'stop_failure_acc': stop_failure_acc,\n",
    "        'stop_success': stop_success,\n",
    "        'stop_failure_rate': stop_failure_rate,\n",
    "        'avg_ssd': avg_ssd,\n",
    "        'min_ssd': min_ssd,\n",
    "        'max_ssd': max_ssd,\n",
    "        'min_ssd_count': min_ssd_count,\n",
    "        'max_ssd_count': max_ssd_count,\n",
    "        'ssrt': ssrt,\n",
    "    }"
   ]
  },
  {
   "cell_type": "code",
   "execution_count": 39,
   "metadata": {},
   "outputs": [
    {
     "name": "stdout",
     "output_type": "stream",
     "text": [
      "Stored 'simple_stop_ssrt' (DataFrame)\n"
     ]
    }
   ],
   "source": [
    "metrics = pd.DataFrame(task_metrics).T\n",
    "metrics = metrics.sort_index()\n",
    "\n",
    "mean_row = metrics.mean()\n",
    "sd_row = metrics.std()\n",
    "metrics = pd.concat([metrics, mean_row.rename('mean').to_frame().T, sd_row.rename('sd').to_frame().T])\n",
    "simple_stop_ssrt = metrics\n",
    "%store simple_stop_ssrt"
   ]
  }
 ],
 "metadata": {
  "kernelspec": {
   "display_name": "base",
   "language": "python",
   "name": "python3"
  },
  "language_info": {
   "codemirror_mode": {
    "name": "ipython",
    "version": 3
   },
   "file_extension": ".py",
   "mimetype": "text/x-python",
   "name": "python",
   "nbconvert_exporter": "python",
   "pygments_lexer": "ipython3",
   "version": "3.12.4"
  }
 },
 "nbformat": 4,
 "nbformat_minor": 2
}
